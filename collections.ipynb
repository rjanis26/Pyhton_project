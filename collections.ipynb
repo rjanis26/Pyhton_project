{
 "cells": [
  {
   "cell_type": "code",
   "execution_count": 10,
   "id": "74c13086",
   "metadata": {},
   "outputs": [
    {
     "name": "stdout",
     "output_type": "stream",
     "text": [
      "Counter({'a': 6, 'b': 3, 'c': 2})\n",
      "dict_values([6, 3, 2])\n",
      "dict_keys(['a', 'b', 'c'])\n",
      "a\n",
      "['a', 'a', 'a', 'a', 'a', 'a', 'b', 'b', 'b', 'c', 'c']\n"
     ]
    }
   ],
   "source": [
    "from collections import Counter\n",
    "a = 'aaaaaabbbcc'\n",
    "my_counter = Counter(a)\n",
    "print(my_counter)\n",
    "print(my_counter.values())\n",
    "print(my_counter.keys())\n",
    "print(my_counter.most_common(2)[0][0])\n",
    "print(list(my_counter.elements()))"
   ]
  },
  {
   "cell_type": "code",
   "execution_count": null,
   "id": "68662966",
   "metadata": {},
   "outputs": [],
   "source": []
  }
 ],
 "metadata": {
  "kernelspec": {
   "display_name": "Python 3 (ipykernel)",
   "language": "python",
   "name": "python3"
  },
  "language_info": {
   "codemirror_mode": {
    "name": "ipython",
    "version": 3
   },
   "file_extension": ".py",
   "mimetype": "text/x-python",
   "name": "python",
   "nbconvert_exporter": "python",
   "pygments_lexer": "ipython3",
   "version": "3.9.7"
  }
 },
 "nbformat": 4,
 "nbformat_minor": 5
}
