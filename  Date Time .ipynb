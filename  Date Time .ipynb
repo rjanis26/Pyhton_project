{
 "cells": [
  {
   "cell_type": "code",
   "execution_count": 1,
   "id": "bdcaeabc",
   "metadata": {},
   "outputs": [
    {
     "name": "stdout",
     "output_type": "stream",
     "text": [
      "2022-02-22 22:48:38.972209\n"
     ]
    }
   ],
   "source": [
    "import time\n",
    "import datetime\n",
    "date = datetime.datetime.now()\n",
    "print(date)"
   ]
  },
  {
   "cell_type": "code",
   "execution_count": 2,
   "id": "ae9dcb1f",
   "metadata": {},
   "outputs": [
    {
     "name": "stdout",
     "output_type": "stream",
     "text": [
      "2022-02-22\n"
     ]
    }
   ],
   "source": [
    "year = datetime.date.today()\n",
    "print(year)"
   ]
  },
  {
   "cell_type": "code",
   "execution_count": 4,
   "id": "9834c23d",
   "metadata": {},
   "outputs": [],
   "source": [
    "year = datetime.date.today().strftime(\"%B\")\n"
   ]
  },
  {
   "cell_type": "code",
   "execution_count": 5,
   "id": "6767ede1",
   "metadata": {},
   "outputs": [
    {
     "name": "stdout",
     "output_type": "stream",
     "text": [
      "Hello world\n"
     ]
    }
   ],
   "source": [
    "print(\"Hello world\")"
   ]
  },
  {
   "cell_type": "code",
   "execution_count": 6,
   "id": "693b7fff",
   "metadata": {},
   "outputs": [
    {
     "name": "stdout",
     "output_type": "stream",
     "text": [
      "2022-02-17\n"
     ]
    }
   ],
   "source": [
    "from datetime import date, timedelta\n",
    "dt = date.today() - timedelta(5)\n",
    "print(dt)\n"
   ]
  },
  {
   "cell_type": "code",
   "execution_count": 7,
   "id": "0b349fa7",
   "metadata": {},
   "outputs": [
    {
     "name": "stdout",
     "output_type": "stream",
     "text": [
      "Today: 2022-02-22\n",
      "Yesrterday: 2022-02-21\n",
      "Tomorrow: 2022-02-23\n"
     ]
    }
   ],
   "source": [
    "import datetime\n",
    "\n",
    "today = datetime.date.today()\n",
    "print(\"Today:\", today)\n",
    "\n",
    "yesterday = today - datetime.timedelta(days = 1)\n",
    "print(\"Yesrterday:\", yesterday)\n",
    "\n",
    "tomorrow = today + datetime.timedelta(days = 1)\n",
    "print(\"Tomorrow:\", tomorrow)\n"
   ]
  },
  {
   "cell_type": "code",
   "execution_count": 8,
   "id": "974a11c3",
   "metadata": {},
   "outputs": [
    {
     "name": "stdout",
     "output_type": "stream",
     "text": [
      "2022-02-22 23:15:15.970207\n",
      "2022-02-23 23:15:15.970207\n",
      "2022-02-24 23:15:15.970207\n",
      "2022-02-25 23:15:15.970207\n",
      "2022-02-26 23:15:15.970207\n"
     ]
    }
   ],
   "source": [
    "import datetime\n",
    "base = datetime.datetime.today()\n",
    "for x in range(0, 5):\n",
    "    print(base + datetime.timedelta(days=x))"
   ]
  },
  {
   "cell_type": "code",
   "execution_count": 12,
   "id": "cf7f01dc",
   "metadata": {},
   "outputs": [
    {
     "data": {
      "text/plain": [
       "False"
      ]
     },
     "execution_count": 12,
     "metadata": {},
     "output_type": "execute_result"
    }
   ],
   "source": [
    "import whatismyip\n",
    "whatismyip.amionline()"
   ]
  },
  {
   "cell_type": "code",
   "execution_count": 13,
   "id": "c97e545c",
   "metadata": {},
   "outputs": [
    {
     "data": {
      "text/plain": [
       "'103.122.253.21'"
      ]
     },
     "execution_count": 13,
     "metadata": {},
     "output_type": "execute_result"
    }
   ],
   "source": [
    "whatismyip.whatismyip()"
   ]
  },
  {
   "cell_type": "code",
   "execution_count": 14,
   "id": "66d9fe89",
   "metadata": {},
   "outputs": [
    {
     "data": {
      "text/plain": [
       "'103.122.253.21'"
      ]
     },
     "execution_count": 14,
     "metadata": {},
     "output_type": "execute_result"
    }
   ],
   "source": [
    "whatismyip.whatismyipv4()"
   ]
  },
  {
   "cell_type": "code",
   "execution_count": 15,
   "id": "2afd03e4",
   "metadata": {},
   "outputs": [
    {
     "ename": "AttributeError",
     "evalue": "module 'whatismyip' has no attribute 'whatismyport'",
     "output_type": "error",
     "traceback": [
      "\u001b[1;31m---------------------------------------------------------------------------\u001b[0m",
      "\u001b[1;31mAttributeError\u001b[0m                            Traceback (most recent call last)",
      "\u001b[1;32mC:\\Users\\MDANIS~1\\AppData\\Local\\Temp/ipykernel_3848/1085394147.py\u001b[0m in \u001b[0;36m<module>\u001b[1;34m\u001b[0m\n\u001b[1;32m----> 1\u001b[1;33m \u001b[0mwhatismyip\u001b[0m\u001b[1;33m.\u001b[0m\u001b[0mwhatismyport\u001b[0m\u001b[1;33m(\u001b[0m\u001b[1;33m)\u001b[0m\u001b[1;33m\u001b[0m\u001b[1;33m\u001b[0m\u001b[0m\n\u001b[0m",
      "\u001b[1;31mAttributeError\u001b[0m: module 'whatismyip' has no attribute 'whatismyport'"
     ]
    }
   ],
   "source": [
    "whatismyip.whatismyport()"
   ]
  },
  {
   "cell_type": "code",
   "execution_count": 16,
   "id": "138c34f4",
   "metadata": {},
   "outputs": [
    {
     "ename": "SyntaxError",
     "evalue": "invalid character '‘' (U+2018) (Temp/ipykernel_3848/1850776022.py, line 3)",
     "output_type": "error",
     "traceback": [
      "\u001b[1;36m  File \u001b[1;32m\"C:\\Users\\MDANIS~1\\AppData\\Local\\Temp/ipykernel_3848/1850776022.py\"\u001b[1;36m, line \u001b[1;32m3\u001b[0m\n\u001b[1;33m    name = ‘Wifi’\u001b[0m\n\u001b[1;37m           ^\u001b[0m\n\u001b[1;31mSyntaxError\u001b[0m\u001b[1;31m:\u001b[0m invalid character '‘' (U+2018)\n"
     ]
    }
   ],
   "source": [
    "import os\n",
    "interface = 'wlan0'\n",
    "name = ‘Wifi’\n",
    "password = ‘password’\n",
    "os.system('iwconfig ' + interface + ' essid ' + name + ' key ' + password)"
   ]
  },
  {
   "cell_type": "code",
   "execution_count": 17,
   "id": "074364a3",
   "metadata": {},
   "outputs": [
    {
     "ename": "ModuleNotFoundError",
     "evalue": "No module named 'sysdmanager'",
     "output_type": "error",
     "traceback": [
      "\u001b[1;31m---------------------------------------------------------------------------\u001b[0m",
      "\u001b[1;31mModuleNotFoundError\u001b[0m                       Traceback (most recent call last)",
      "\u001b[1;32mC:\\Users\\MDANIS~1\\AppData\\Local\\Temp/ipykernel_3848/541497921.py\u001b[0m in \u001b[0;36m<module>\u001b[1;34m\u001b[0m\n\u001b[0;32m      3\u001b[0m \u001b[1;32mimport\u001b[0m \u001b[0msubprocess\u001b[0m\u001b[1;33m\u001b[0m\u001b[1;33m\u001b[0m\u001b[0m\n\u001b[0;32m      4\u001b[0m \u001b[1;33m\u001b[0m\u001b[0m\n\u001b[1;32m----> 5\u001b[1;33m \u001b[1;32mfrom\u001b[0m \u001b[0msysdmanager\u001b[0m \u001b[1;32mimport\u001b[0m \u001b[0mSystemdManager\u001b[0m\u001b[1;33m\u001b[0m\u001b[1;33m\u001b[0m\u001b[0m\n\u001b[0m\u001b[0;32m      6\u001b[0m \u001b[1;32mfrom\u001b[0m \u001b[0mnetifaces\u001b[0m \u001b[1;32mimport\u001b[0m \u001b[0mifaddresses\u001b[0m\u001b[1;33m,\u001b[0m \u001b[0mAF_INET\u001b[0m\u001b[1;33m,\u001b[0m \u001b[0mAF_LINK\u001b[0m\u001b[1;33m\u001b[0m\u001b[1;33m\u001b[0m\u001b[0m\n\u001b[0;32m      7\u001b[0m \u001b[1;33m\u001b[0m\u001b[0m\n",
      "\u001b[1;31mModuleNotFoundError\u001b[0m: No module named 'sysdmanager'"
     ]
    }
   ],
   "source": [
    "import os\n",
    "import re\n",
    "import subprocess\n",
    "\n",
    "from sysdmanager import SystemdManager\n",
    "from netifaces import ifaddresses, AF_INET, AF_LINK\n",
    "\n",
    "\n",
    "class WiFiControlError(Exception):\n",
    "    pass\n",
    "\n",
    "\n",
    "class WiFi(object):\n",
    "    restart_mdns = \"systemctl restart mdns.service && sleep 2\"\n",
    "    rfkill_wifi_control = lambda self, action: \"rfkill {} wifi\".format(action)\n",
    "\n",
    "    def __init__(self, interface):\n",
    "        self.interface = interface\n",
    "        self.sysdmanager = SystemdManager()\n",
    "\n",
    "    def restart_dns(self):\n",
    "        self.execute_command(self.restart_mdns)\n",
    "\n",
    "    def block(self):\n",
    "        self.execute_command(self.rfkill_wifi_control(\"block\"))\n",
    "\n",
    "    def unblock(self):\n",
    "        self.execute_command(self.rfkill_wifi_control(\"unblock\"))\n",
    "\n",
    "    def get_device_ip(self):\n",
    "        try:\n",
    "            return ifaddresses(self.interface)[AF_INET][0]['addr']\n",
    "        except KeyError:\n",
    "            return \"127.0.0.1\"\n",
    "\n",
    "    def get_device_mac(self):\n",
    "        try:\n",
    "            return ifaddresses(self.interface)[AF_LINK][0]['addr']\n",
    "        except KeyError:\n",
    "            return \"00:00:00:00:00:00\"\n",
    "\n",
    "    def re_search(self, pattern, file):\n",
    "        with open(file, 'r', 0) as data_file:\n",
    "            data = data_file.read()\n",
    "        return re.search(pattern, data, re.MULTILINE).group(0)\n",
    "\n",
    "    def replace(self, pattern, text, file):\n",
    "        with open(file, 'r', 0) as data_file:\n",
    "            data = data_file.read()\n",
    "        old = re.search(pattern, data, re.MULTILINE).group(0)\n",
    "        with open(file, 'w', 0) as data_file:\n",
    "            data_file.write(data.replace(old, text))\n",
    "            data_file.flush()\n",
    "            os.fsync(data_file)\n",
    "\n",
    "    def execute_command(self, args):\n",
    "        try:\n",
    "            return subprocess.check_output(args, stderr=subprocess.PIPE, shell=True)\n",
    "        except subprocess.CalledProcessError as error:\n",
    "            error_message = \"WiFiControl: subprocess call error\\n\"\n",
    "            error_message += \"Return code: {}\\n\".format(error.returncode)\n",
    "            error_message += \"Command: {}\".format(args)\n",
    "            raise WiFiControlError(error_message)\n",
    "\n",
    "\n",
    "if __name__ == '__main__':\n",
    "    wifi = WiFi('wlp6s0')\n",
    "    print(wifi.get_device_ip())\n",
    "    print(wifi.get_device_mac())"
   ]
  },
  {
   "cell_type": "code",
   "execution_count": 19,
   "id": "498afe46",
   "metadata": {},
   "outputs": [
    {
     "data": {
      "text/plain": [
       "False"
      ]
     },
     "execution_count": 19,
     "metadata": {},
     "output_type": "execute_result"
    }
   ],
   "source": [
    "import whatismyip\n",
    "whatismyip.amionline()"
   ]
  },
  {
   "cell_type": "code",
   "execution_count": 20,
   "id": "4cb6a7ed",
   "metadata": {},
   "outputs": [
    {
     "data": {
      "text/plain": [
       "'103.122.253.21'"
      ]
     },
     "execution_count": 20,
     "metadata": {},
     "output_type": "execute_result"
    }
   ],
   "source": [
    "whatismyip.whatismyip()"
   ]
  },
  {
   "cell_type": "code",
   "execution_count": 21,
   "id": "fbd955c0",
   "metadata": {},
   "outputs": [
    {
     "data": {
      "text/plain": [
       "'103.122.253.21'"
      ]
     },
     "execution_count": 21,
     "metadata": {},
     "output_type": "execute_result"
    }
   ],
   "source": [
    "whatismyip.whatismyipv4()"
   ]
  },
  {
   "cell_type": "code",
   "execution_count": null,
   "id": "1abfcf11",
   "metadata": {},
   "outputs": [],
   "source": [
    "improt calender\n",
    "base = for i in rnage(0. 5):\n",
    "    "
   ]
  }
 ],
 "metadata": {
  "kernelspec": {
   "display_name": "Python 3 (ipykernel)",
   "language": "python",
   "name": "python3"
  },
  "language_info": {
   "codemirror_mode": {
    "name": "ipython",
    "version": 3
   },
   "file_extension": ".py",
   "mimetype": "text/x-python",
   "name": "python",
   "nbconvert_exporter": "python",
   "pygments_lexer": "ipython3",
   "version": "3.9.7"
  }
 },
 "nbformat": 4,
 "nbformat_minor": 5
}
