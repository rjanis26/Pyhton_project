{
 "cells": [
  {
   "cell_type": "code",
   "execution_count": 1,
   "id": "0248a1f3",
   "metadata": {},
   "outputs": [
    {
     "name": "stdout",
     "output_type": "stream",
     "text": [
      "Hello world...\n"
     ]
    }
   ],
   "source": [
    "print(\"Hello world...\")"
   ]
  },
  {
   "cell_type": "code",
   "execution_count": 5,
   "id": "d28cc358",
   "metadata": {},
   "outputs": [
    {
     "name": "stdout",
     "output_type": "stream",
     "text": [
      "{'black', 'white'}\n"
     ]
    }
   ],
   "source": [
    "color_list1 = set(['white', 'black', 'red'])\n",
    "color_list2 = set(['red', 'green'])\n",
    "\n",
    "print(color_list1.difference(color_list2))"
   ]
  },
  {
   "cell_type": "code",
   "execution_count": 6,
   "id": "8829af68",
   "metadata": {},
   "outputs": [
    {
     "name": "stdout",
     "output_type": "stream",
     "text": [
      "Enter the base: 3\n",
      "Enter the height: 4\n",
      "Area is =  6.0\n"
     ]
    }
   ],
   "source": [
    "b = int(input(\"Enter the base: \"))\n",
    "h = int(input(\"Enter the height: \"))\n",
    "\n",
    "area = b*h/2\n",
    "print(\"Area is = \", area)"
   ]
  },
  {
   "cell_type": "code",
   "execution_count": 7,
   "id": "ee3ae17f",
   "metadata": {},
   "outputs": [
    {
     "name": "stdout",
     "output_type": "stream",
     "text": [
      "1468910\n"
     ]
    }
   ],
   "source": [
    "def concatenate_list(list):\n",
    "    val = ''\n",
    "    for element in list:\n",
    "        val += str(element)\n",
    "    return val\n",
    "\n",
    "print(concatenate_list([1, 4, 6, 8, 9, 10]))"
   ]
  },
  {
   "cell_type": "code",
   "execution_count": 8,
   "id": "4796c78b",
   "metadata": {},
   "outputs": [
    {
     "name": "stdout",
     "output_type": "stream",
     "text": [
      "8\n",
      "0\n",
      "0\n"
     ]
    }
   ],
   "source": [
    "def sum(x, y, z):\n",
    "    if x == y or y == z or  z == x:\n",
    "        sum = 0\n",
    "    else:\n",
    "        sum = x + y + z\n",
    "    return sum\n",
    "\n",
    "print(sum(1, 3, 4))\n",
    "print(sum(1, 4,4))\n",
    "print(sum(3, 5, 3))"
   ]
  },
  {
   "cell_type": "code",
   "execution_count": 11,
   "id": "8ebed228",
   "metadata": {},
   "outputs": [
    {
     "name": "stdout",
     "output_type": "stream",
     "text": [
      "20\n",
      "20\n",
      "20\n",
      "5\n"
     ]
    }
   ],
   "source": [
    "def sum(x,y):\n",
    "    sum = x + y\n",
    "    if sum in range(15, 20):\n",
    "        return 20\n",
    "    else:\n",
    "        return sum\n",
    "    \n",
    "print(sum(12,3))\n",
    "print(sum(13, 4))\n",
    "print(sum(10, 5))\n",
    "print(sum(2, 3))"
   ]
  },
  {
   "cell_type": "code",
   "execution_count": 17,
   "id": "bbe7dffa",
   "metadata": {},
   "outputs": [
    {
     "name": "stdout",
     "output_type": "stream",
     "text": [
      "Name: Anisul islam\n",
      "Age: 19\n",
      "Address: Ulusara, Kapasia, Gazipur, Bangladesh\n"
     ]
    }
   ],
   "source": [
    "def personal_Info():\n",
    "    name, age = \"Anisul islam\", 19\n",
    "    address = \"Ulusara, Kapasia, Gazipur, Bangladesh\"\n",
    "    \n",
    "    print(\"Name: {}\\nAge: {}\\nAddress: {}\".format(name, age, address))\n",
    "    \n",
    "personal_Info()"
   ]
  },
  {
   "cell_type": "code",
   "execution_count": 18,
   "id": "594b773f",
   "metadata": {},
   "outputs": [
    {
     "name": "stdout",
     "output_type": "stream",
     "text": [
      "Name: Billa Sordar\n",
      "Age: 30\n",
      "Profession: Software Enginners\n",
      "Education: Bsc in CSE at University of Dhaka\n",
      "Address: Ulusara, Kapasia, Gazipur, Bangladesh\n"
     ]
    }
   ],
   "source": [
    "def personal_information():\n",
    "    name, age, profession = \"Billa Sordar\", 30, \"Software Enginners\"\n",
    "    education = \"Bsc in CSE at University of Dhaka\"\n",
    "    address = \"Ulusara, Kapasia, Gazipur, Bangladesh\"\n",
    "    print(\"Name: {}\\nAge: {}\\nProfession: {}\\nEducation: {}\\nAddress: {}\".format(name, age, profession, education, address))\n",
    "    \n",
    "personal_information()"
   ]
  },
  {
   "cell_type": "code",
   "execution_count": 19,
   "id": "cb3abecc",
   "metadata": {},
   "outputs": [
    {
     "name": "stdout",
     "output_type": "stream",
     "text": [
      "['C:\\\\Users\\\\MD ANISUL ISLAM\\\\anaconda3', 'C:\\\\Users\\\\MD ANISUL ISLAM\\\\anaconda3\\\\lib\\\\site-packages']\n"
     ]
    }
   ],
   "source": [
    "import site;\n",
    "print(site.getsitepackages())"
   ]
  },
  {
   "cell_type": "code",
   "execution_count": 20,
   "id": "29ba4b91",
   "metadata": {},
   "outputs": [
    {
     "name": "stdout",
     "output_type": "stream",
     "text": [
      "['C:\\\\Users\\\\MD ANISUL ISLAM\\\\anaconda3', 'C:\\\\Users\\\\MD ANISUL ISLAM\\\\anaconda3\\\\lib\\\\site-packages']\n"
     ]
    }
   ],
   "source": [
    "import site;\n",
    "print(site.getsitepackages())"
   ]
  },
  {
   "cell_type": "code",
   "execution_count": 24,
   "id": "ae792846",
   "metadata": {},
   "outputs": [
    {
     "ename": "NameError",
     "evalue": "name '__file__' is not defined",
     "output_type": "error",
     "traceback": [
      "\u001b[1;31m---------------------------------------------------------------------------\u001b[0m",
      "\u001b[1;31mNameError\u001b[0m                                 Traceback (most recent call last)",
      "\u001b[1;32mC:\\Users\\MDANIS~1\\AppData\\Local\\Temp/ipykernel_668/4049563623.py\u001b[0m in \u001b[0;36m<module>\u001b[1;34m\u001b[0m\n\u001b[0;32m      1\u001b[0m \u001b[1;32mimport\u001b[0m \u001b[0mos\u001b[0m\u001b[1;33m\u001b[0m\u001b[1;33m\u001b[0m\u001b[0m\n\u001b[1;32m----> 2\u001b[1;33m \u001b[0mprint\u001b[0m\u001b[1;33m(\u001b[0m\u001b[1;34m\"current File Name: \"\u001b[0m\u001b[1;33m,\u001b[0m \u001b[0mos\u001b[0m\u001b[1;33m.\u001b[0m\u001b[0mpath\u001b[0m\u001b[1;33m.\u001b[0m\u001b[0mrealpath\u001b[0m\u001b[1;33m(\u001b[0m\u001b[0m__file__\u001b[0m\u001b[1;33m)\u001b[0m\u001b[1;33m)\u001b[0m\u001b[1;33m\u001b[0m\u001b[1;33m\u001b[0m\u001b[0m\n\u001b[0m",
      "\u001b[1;31mNameError\u001b[0m: name '__file__' is not defined"
     ]
    }
   ],
   "source": [
    "import os\n",
    "print(\"current File Name: \", os.path.realpath(__file__))"
   ]
  },
  {
   "cell_type": "code",
   "execution_count": 25,
   "id": "55d4c4ec",
   "metadata": {},
   "outputs": [
    {
     "name": "stdout",
     "output_type": "stream",
     "text": [
      "1\n",
      "2\n",
      "4\n",
      "5\n",
      "5\n",
      "6\n",
      "7\n",
      "Access first three items individual\n",
      "1\n",
      "2\n",
      "5\n",
      "5\n"
     ]
    }
   ],
   "source": [
    "#arry important in cs\n",
    "from array import*\n",
    "array_num = array('i', [1, 2,4, 5, 5, 6, 7])\n",
    "for i in array_num:\n",
    "    print(i)\n",
    "    \n",
    "print(\"Access first three items individual\")\n",
    "print(array_num[0])\n",
    "print(array_num[1])\n",
    "print(array_num[3])\n",
    "print(array_num[4])\n",
    "\n"
   ]
  },
  {
   "cell_type": "code",
   "execution_count": 37,
   "id": "cd1be836",
   "metadata": {},
   "outputs": [
    {
     "name": "stdout",
     "output_type": "stream",
     "text": [
      "Orginal array: array('i', [1, 3, 5, 7, 9])\n",
      "Append 11 at the end of the array: \n",
      "New array: array('i', [1, 3, 5, 7, 9, 22])\n",
      "Reversed array: array('i', [22, 9, 7, 5, 3, 1])\n"
     ]
    }
   ],
   "source": [
    "from array import*\n",
    "arr_num = array('i', [1, 3, 5, 7, 9])\n",
    "print(\"Orginal array: \"+ str(arr_num))\n",
    "print(\"Append 11 at the end of the array: \")\n",
    "arr_num.append(22)\n",
    "print(\"New array: \"+ str(arr_num))\n",
    "arr_num.reverse()\n",
    "print(\"Reversed array: \"+ str(arr_num))\n"
   ]
  },
  {
   "cell_type": "code",
   "execution_count": 43,
   "id": "e9b38a9c",
   "metadata": {},
   "outputs": [
    {
     "name": "stdout",
     "output_type": "stream",
     "text": [
      "Orginal array:  array('f', [23.440000534057617, 55.22999954223633, 65.44999694824219, 90.0199966430664, 87.33999633789062])\n",
      "5\n",
      "Size of the aray:  4\n",
      "array('f', [23.440000534057617, 55.22999954223633, 65.44999694824219, 90.0199966430664, 87.33999633789062, 34.34400177001953])\n",
      "6\n",
      "Size of the array:  4\n"
     ]
    }
   ],
   "source": [
    "from array import*\n",
    "arr = array('f', [23.44, 55.23, 65.45, 90.02, 87.34])\n",
    "print(\"Orginal array: \", arr)\n",
    "print(len(arr))\n",
    "print(\"Size of the aray: \", (arr.itemsize))\n",
    "arr.append(34.344)\n",
    "print(arr)\n",
    "print(len(arr))\n",
    "print(\"Size of the array: \", (arr.itemsize))"
   ]
  },
  {
   "cell_type": "code",
   "execution_count": 45,
   "id": "ea2c0f02",
   "metadata": {},
   "outputs": [
    {
     "name": "stdout",
     "output_type": "stream",
     "text": [
      "Orginal array: ('i', [1, 3, 5, 7, 9])\n"
     ]
    },
    {
     "ename": "AttributeError",
     "evalue": "'tuple' object has no attribute 'buffer_info'",
     "output_type": "error",
     "traceback": [
      "\u001b[1;31m---------------------------------------------------------------------------\u001b[0m",
      "\u001b[1;31mAttributeError\u001b[0m                            Traceback (most recent call last)",
      "\u001b[1;32mC:\\Users\\MDANIS~1\\AppData\\Local\\Temp/ipykernel_668/1505438941.py\u001b[0m in \u001b[0;36m<module>\u001b[1;34m\u001b[0m\n\u001b[0;32m      2\u001b[0m \u001b[0mnew_arr\u001b[0m \u001b[1;33m=\u001b[0m \u001b[1;33m(\u001b[0m\u001b[1;34m'i'\u001b[0m\u001b[1;33m,\u001b[0m \u001b[1;33m[\u001b[0m\u001b[1;36m1\u001b[0m\u001b[1;33m,\u001b[0m \u001b[1;36m3\u001b[0m\u001b[1;33m,\u001b[0m \u001b[1;36m5\u001b[0m\u001b[1;33m,\u001b[0m \u001b[1;36m7\u001b[0m\u001b[1;33m,\u001b[0m \u001b[1;36m9\u001b[0m\u001b[1;33m]\u001b[0m\u001b[1;33m)\u001b[0m\u001b[1;33m\u001b[0m\u001b[1;33m\u001b[0m\u001b[0m\n\u001b[0;32m      3\u001b[0m \u001b[0mprint\u001b[0m\u001b[1;33m(\u001b[0m\u001b[1;34m\"Orginal array: \"\u001b[0m\u001b[1;33m+\u001b[0m\u001b[0mstr\u001b[0m\u001b[1;33m(\u001b[0m\u001b[0mnew_arr\u001b[0m\u001b[1;33m)\u001b[0m\u001b[1;33m)\u001b[0m\u001b[1;33m\u001b[0m\u001b[1;33m\u001b[0m\u001b[0m\n\u001b[1;32m----> 4\u001b[1;33m \u001b[0mprint\u001b[0m\u001b[1;33m(\u001b[0m\u001b[1;34m\"Memory buffer in bytes: \"\u001b[0m\u001b[1;33m,\u001b[0m \u001b[0mnew_arr\u001b[0m\u001b[1;33m.\u001b[0m\u001b[0mbuffer_info\u001b[0m\u001b[1;33m(\u001b[0m\u001b[1;33m)\u001b[0m\u001b[1;33m)\u001b[0m\u001b[1;33m\u001b[0m\u001b[1;33m\u001b[0m\u001b[0m\n\u001b[0m",
      "\u001b[1;31mAttributeError\u001b[0m: 'tuple' object has no attribute 'buffer_info'"
     ]
    }
   ],
   "source": [
    "from array import*\n",
    "new_arr = array('i', [1, 3, 5, 7, 9])\n",
    "print(\"Orginal array: \"+str(new_arr))\n",
    "print(\"Memory buffer in bytes: \", new_arr.buffer_info())"
   ]
  },
  {
   "cell_type": "code",
   "execution_count": 53,
   "id": "66d91459",
   "metadata": {},
   "outputs": [
    {
     "name": "stdout",
     "output_type": "stream",
     "text": [
      "Orginal array:  array('i', [1, 2, 4, 5, 5, 4, 5, 5, 6, 7, 8, 9, 9, 9])\n",
      "counter of the array:  4\n",
      "counter of the array:  1\n",
      "counter of the array:  2\n",
      "counter of the array:  3\n"
     ]
    }
   ],
   "source": [
    "from array import*\n",
    "arrs = array('i', [1, 2, 4, 5, 5, 4, 5, 5, 6, 7, 8, 9, 9, 9,])\n",
    "print(\"Orginal array: \", arrs)\n",
    "print(\"counter of the array: \",arrs.count(5))\n",
    "print(\"counter of the array: \",arrs.count(1))\n",
    "print(\"counter of the array: \",arrs.count(4))\n",
    "print(\"counter of the array: \",arrs.count(9))"
   ]
  },
  {
   "cell_type": "code",
   "execution_count": 55,
   "id": "af9093a4",
   "metadata": {},
   "outputs": [
    {
     "name": "stdout",
     "output_type": "stream",
     "text": [
      "Orginal array:  array('i', [1, 3, 5, 7])\n",
      "Extended array:  array('i', [1, 3, 5, 7, 1, 3, 5, 7])\n"
     ]
    }
   ],
   "source": [
    "from array import*\n",
    "arr_new = array('i', [1, 3, 5, 7])\n",
    "print(\"Orginal array: \", arr_new)\n",
    "arr_new.extend(arr_new)\n",
    "print(\"Extended array: \", arr_new)"
   ]
  },
  {
   "cell_type": "code",
   "execution_count": 58,
   "id": "dd66c8a5",
   "metadata": {},
   "outputs": [
    {
     "name": "stdout",
     "output_type": "stream",
     "text": [
      "List:  [1, 2, 6, -8]\n"
     ]
    },
    {
     "ename": "AttributeError",
     "evalue": "'array.array' object has no attribute 'frommlist'",
     "output_type": "error",
     "traceback": [
      "\u001b[1;31m---------------------------------------------------------------------------\u001b[0m",
      "\u001b[1;31mAttributeError\u001b[0m                            Traceback (most recent call last)",
      "\u001b[1;32mC:\\Users\\MDANIS~1\\AppData\\Local\\Temp/ipykernel_668/1725015409.py\u001b[0m in \u001b[0;36m<module>\u001b[1;34m\u001b[0m\n\u001b[0;32m      3\u001b[0m \u001b[0marr_num\u001b[0m \u001b[1;33m=\u001b[0m \u001b[0marray\u001b[0m\u001b[1;33m(\u001b[0m\u001b[1;34m'i'\u001b[0m\u001b[1;33m,\u001b[0m \u001b[1;33m[\u001b[0m\u001b[1;33m]\u001b[0m\u001b[1;33m)\u001b[0m\u001b[1;33m\u001b[0m\u001b[1;33m\u001b[0m\u001b[0m\n\u001b[0;32m      4\u001b[0m \u001b[0mprint\u001b[0m\u001b[1;33m(\u001b[0m\u001b[1;34m\"List: \"\u001b[0m\u001b[1;33m,\u001b[0m \u001b[0mnum_list\u001b[0m\u001b[1;33m)\u001b[0m\u001b[1;33m\u001b[0m\u001b[1;33m\u001b[0m\u001b[0m\n\u001b[1;32m----> 5\u001b[1;33m \u001b[0marr_num\u001b[0m\u001b[1;33m.\u001b[0m\u001b[0mfrommlist\u001b[0m\u001b[1;33m(\u001b[0m\u001b[0mnum_list\u001b[0m\u001b[1;33m)\u001b[0m\u001b[1;33m\u001b[0m\u001b[1;33m\u001b[0m\u001b[0m\n\u001b[0m\u001b[0;32m      6\u001b[0m \u001b[0mprint\u001b[0m\u001b[1;33m(\u001b[0m\u001b[1;34m\"Items of the array: \"\u001b[0m\u001b[1;33m,\u001b[0m \u001b[0marr_num\u001b[0m\u001b[1;33m)\u001b[0m\u001b[1;33m\u001b[0m\u001b[1;33m\u001b[0m\u001b[0m\n",
      "\u001b[1;31mAttributeError\u001b[0m: 'array.array' object has no attribute 'frommlist'"
     ]
    }
   ],
   "source": [
    "from array import*\n",
    "num_list = [1, 2, 6, -8]\n",
    "arr_num = array('i', [])\n",
    "print(\"List: \", num_list)\n",
    "arr_num.frommlist(num_list)\n",
    "print(\"Items of the array: \", arr_num)\n"
   ]
  },
  {
   "cell_type": "code",
   "execution_count": 59,
   "id": "077a7771",
   "metadata": {},
   "outputs": [
    {
     "name": "stdout",
     "output_type": "stream",
     "text": [
      "6\n",
      "-1\n",
      "1\n"
     ]
    }
   ],
   "source": [
    "def find_first_duplicate(nums):\n",
    "    num_set = set()\n",
    "    no_duplicate = -1\n",
    "    \n",
    "    for i in range(len(nums)):\n",
    "        if nums[i] in num_set:\n",
    "            return nums[i]\n",
    "        \n",
    "        else:\n",
    "            num_set.add(nums[i])\n",
    "            \n",
    "    return no_duplicate\n",
    "\n",
    "print(find_first_duplicate([1, 2, 4, 5 , 6, 6, 6, 6]))\n",
    "print(find_first_duplicate([2, 3, 5, 7, 9]))\n",
    "print(find_first_duplicate([1,1, 3, 3, 3]))"
   ]
  },
  {
   "cell_type": "code",
   "execution_count": 62,
   "id": "6fd5e4a6",
   "metadata": {},
   "outputs": [
    {
     "name": "stdout",
     "output_type": "stream",
     "text": [
      "Orginal array:  array('i', [1, 3, 5, 7, 9])\n",
      "New array: array('i', [1, 5, 7, 9])\n"
     ]
    }
   ],
   "source": [
    "from array import*\n",
    "array = array('i', [1, 3, 5, 7, 9])\n",
    "print(\"Orginal array: \", array)\n",
    "array.remove(3)\n",
    "print(\"New array: \"+ str(array))"
   ]
  },
  {
   "cell_type": "code",
   "execution_count": 67,
   "id": "2a9375a1",
   "metadata": {},
   "outputs": [
    {
     "name": "stdout",
     "output_type": "stream",
     "text": [
      "Orginal array: array('i', [2, 4, 6, 8, 10])\n",
      "New array:  array('i', [2, 4, 8, 10])\n",
      "Insert array:  array('i', [2, 12, 4, 8, 10])\n"
     ]
    }
   ],
   "source": [
    "from array import*\n",
    "arrr = array('i', [2, 4, 6, 8, 10])\n",
    "print(\"Orginal array:\", arrr)\n",
    "arrr.pop(2)\n",
    "print(\"New array: \", arrr)\n",
    "arrr.insert(1, 12)\n",
    "print(\"Insert array: \", arrr)"
   ]
  },
  {
   "cell_type": "code",
   "execution_count": 70,
   "id": "0bc70abb",
   "metadata": {},
   "outputs": [
    {
     "name": "stdout",
     "output_type": "stream",
     "text": [
      "List:  [1, 2, 4, 5, 7, 8]\n",
      "array('i', [1, 2, 4, 5, 7, 8])\n"
     ]
    }
   ],
   "source": [
    "from array import*\n",
    "new_list = [1, 2, 4, 5, 7, 8]\n",
    "array_num = array('i', [])\n",
    "print(\"List: \", new_list)\n",
    "array_num.fromlist(new_list)\n",
    "print(array_num)"
   ]
  },
  {
   "cell_type": "code",
   "execution_count": null,
   "id": "ed21d6dd",
   "metadata": {},
   "outputs": [],
   "source": [
    "from array import*\n",
    "new_arr = array('i', [])"
   ]
  }
 ],
 "metadata": {
  "kernelspec": {
   "display_name": "Python 3 (ipykernel)",
   "language": "python",
   "name": "python3"
  },
  "language_info": {
   "codemirror_mode": {
    "name": "ipython",
    "version": 3
   },
   "file_extension": ".py",
   "mimetype": "text/x-python",
   "name": "python",
   "nbconvert_exporter": "python",
   "pygments_lexer": "ipython3",
   "version": "3.9.7"
  }
 },
 "nbformat": 4,
 "nbformat_minor": 5
}
