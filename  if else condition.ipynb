{
 "cells": [
  {
   "cell_type": "code",
   "execution_count": 5,
   "id": "4d1d769c",
   "metadata": {},
   "outputs": [
    {
     "name": "stdout",
     "output_type": "stream",
     "text": [
      "1505,1540,1575,1610,1645,1680,1715,1750,1785,1820,1855,1890,1925,1960,1995,2030,2065,2100,2135,2170,2205,2240,2275,2310,2345,2380,2415,2450,2485,2520,2555,2590,2625,2660,2695\n"
     ]
    }
   ],
   "source": [
    "n1 = []\n",
    "for x in range(1500, 2701):\n",
    "    if x % 7 == 0 and x % 5 == 0:\n",
    "        n1.append(str(x))\n",
    "print(\",\".join(n1))"
   ]
  },
  {
   "cell_type": "code",
   "execution_count": 11,
   "id": "f9a20a84",
   "metadata": {},
   "outputs": [
    {
     "name": "stdout",
     "output_type": "stream",
     "text": [
      "Number of the even: 5\n",
      "Number of the odd: 4\n"
     ]
    }
   ],
   "source": [
    "\n",
    "numbers = (1, 2, 4, 5, 6, 7, 8 , 7, 8)\n",
    "count_odd = 0\n",
    "count_even = 0\n",
    "for x in numbers:\n",
    "    if not x % 2:\n",
    "        count_even += 1\n",
    "    else:\n",
    "        count_odd += 1\n",
    "print(\"Number of the even: \"+ str(count_even))\n",
    "print(\"Number of the odd: \"+ str(count_odd))"
   ]
  },
  {
   "cell_type": "code",
   "execution_count": 14,
   "id": "e024e36c",
   "metadata": {},
   "outputs": [
    {
     "name": "stdout",
     "output_type": "stream",
     "text": [
      "type of  1453  is  <class 'int'>\n",
      "type of  133.44  is  <class 'float'>\n",
      "type of  (1+2j)  is  <class 'complex'>\n",
      "type of  True  is  <class 'bool'>\n",
      "type of  w3source  is  <class 'str'>\n",
      "type of  (0, -1)  is  <class 'tuple'>\n",
      "type of  [5, 3]  is  <class 'list'>\n",
      "type of  {'class': 'v', 'section': 'A'}  is  <class 'dict'>\n"
     ]
    }
   ],
   "source": [
    "dataList = [1453, 133.44, 1 + 2j, True, 'w3source', (0, -1), [5, 3], {\"class\": 'v', \"section\" : 'A'}]\n",
    "for item in dataList:\n",
    "    print(\"type of \", item, \" is \", type(item))"
   ]
  },
  {
   "cell_type": "code",
   "execution_count": 15,
   "id": "4b9b048a",
   "metadata": {},
   "outputs": [
    {
     "name": "stdout",
     "output_type": "stream",
     "text": [
      "0 1 2 4 5 \n",
      "\n"
     ]
    }
   ],
   "source": [
    "for x in range(6):\n",
    "    if x == 3 or x == 6:\n",
    "        continue\n",
    "    print(x, end=\" \")\n",
    "    \n",
    "print(\"\\n\")"
   ]
  },
  {
   "cell_type": "code",
   "execution_count": 17,
   "id": "1cf1ec58",
   "metadata": {},
   "outputs": [
    {
     "name": "stdout",
     "output_type": "stream",
     "text": [
      "FizzBuzz\n",
      "1\n",
      "2\n",
      "Fizz\n",
      "4\n",
      "Buzz\n",
      "Fizz\n",
      "7\n",
      "8\n",
      "Fizz\n",
      "Buzz\n",
      "11\n",
      "Fizz\n",
      "13\n",
      "14\n",
      "FizzBuzz\n",
      "16\n",
      "17\n",
      "Fizz\n",
      "19\n",
      "Buzz\n",
      "Fizz\n",
      "22\n",
      "23\n",
      "Fizz\n",
      "Buzz\n",
      "26\n",
      "Fizz\n",
      "28\n",
      "29\n",
      "FizzBuzz\n",
      "31\n",
      "32\n",
      "Fizz\n",
      "34\n",
      "Buzz\n",
      "Fizz\n",
      "37\n",
      "38\n",
      "Fizz\n",
      "Buzz\n",
      "41\n",
      "Fizz\n",
      "43\n",
      "44\n",
      "FizzBuzz\n",
      "46\n",
      "47\n",
      "Fizz\n",
      "49\n",
      "Buzz\n"
     ]
    }
   ],
   "source": [
    " for FizzBuzz in range(51):\n",
    "        if FizzBuzz % 3 == 0 and FizzBuzz % 5 == 0:\n",
    "            print(\"FizzBuzz\")\n",
    "            continue\n",
    "        elif FizzBuzz % 3 == 0:\n",
    "            print(\"Fizz\")\n",
    "            continue\n",
    "            \n",
    "        elif FizzBuzz % 5 == 0:\n",
    "            print(\"Buzz\")\n",
    "            continue\n",
    "            \n",
    "        print(FizzBuzz)"
   ]
  },
  {
   "cell_type": "code",
   "execution_count": null,
   "id": "194466e0",
   "metadata": {},
   "outputs": [],
   "source": [
    "lines = []\n",
    "while True:\n",
    "    llist = input()\n",
    "    if llist:\n",
    "        lines.append(llist.upper())\n",
    "    else:\n",
    "        break;\n",
    "for llist in lines:\n",
    "    print(llist)"
   ]
  },
  {
   "cell_type": "code",
   "execution_count": null,
   "id": "9a54dca8",
   "metadata": {},
   "outputs": [],
   "source": [
    "print(\"hello world\")"
   ]
  },
  {
   "cell_type": "code",
   "execution_count": null,
   "id": "555a205c",
   "metadata": {},
   "outputs": [],
   "source": []
  }
 ],
 "metadata": {
  "kernelspec": {
   "display_name": "Python 3 (ipykernel)",
   "language": "python",
   "name": "python3"
  },
  "language_info": {
   "codemirror_mode": {
    "name": "ipython",
    "version": 3
   },
   "file_extension": ".py",
   "mimetype": "text/x-python",
   "name": "python",
   "nbconvert_exporter": "python",
   "pygments_lexer": "ipython3",
   "version": "3.9.7"
  }
 },
 "nbformat": 4,
 "nbformat_minor": 5
}
