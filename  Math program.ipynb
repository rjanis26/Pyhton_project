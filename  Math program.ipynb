{
 "cells": [
  {
   "cell_type": "code",
   "execution_count": null,
   "id": "5dd25074",
   "metadata": {},
   "outputs": [],
   "source": [
    "#leap year...\n",
    "year = int(input(\"Enter year to be check :\"))\n",
    "if year % 4 == 0 and year % 100 != 0 or year % 400 == 0:\n",
    "    print(\"this yaer is leap year.\")\n",
    "else:\n",
    "    print(\"This year isn't leap year.\")"
   ]
  },
  {
   "cell_type": "code",
   "execution_count": null,
   "id": "0d7ed549",
   "metadata": {},
   "outputs": [],
   "source": [
    "celcius = int(input(\"Enter the temprature in celcius: \"))\n",
    "farenhiet = (celcius*1.8) + 32\n",
    "print(\"Temprature in farenheit is:\", farenhiet)"
   ]
  },
  {
   "cell_type": "code",
   "execution_count": null,
   "id": "69d663e3",
   "metadata": {},
   "outputs": [],
   "source": [
    "print(\"hello world\")"
   ]
  },
  {
   "cell_type": "code",
   "execution_count": null,
   "id": "4b9c05ae",
   "metadata": {},
   "outputs": [],
   "source": []
  }
 ],
 "metadata": {
  "kernelspec": {
   "display_name": "Python 3 (ipykernel)",
   "language": "python",
   "name": "python3"
  },
  "language_info": {
   "codemirror_mode": {
    "name": "ipython",
    "version": 3
   },
   "file_extension": ".py",
   "mimetype": "text/x-python",
   "name": "python",
   "nbconvert_exporter": "python",
   "pygments_lexer": "ipython3",
   "version": "3.9.7"
  }
 },
 "nbformat": 4,
 "nbformat_minor": 5
}
