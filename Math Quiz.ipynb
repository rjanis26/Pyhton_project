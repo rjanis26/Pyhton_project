{
 "cells": [
  {
   "cell_type": "code",
   "execution_count": 1,
   "id": "d240cb06",
   "metadata": {},
   "outputs": [
    {
     "name": "stdout",
     "output_type": "stream",
     "text": [
      "************************\n",
      "** A Simple Math Quiz **\n",
      "************************\n",
      "1. Addition\n",
      "2. Subtraction\n",
      "3. Multiplication\n",
      "4. Integer Division\n",
      "5. Exit\n",
      "------------------------\n",
      "Enter your choice:1\n",
      "Enter your choice:1\n",
      "Enter your answer:\n",
      "19 + 11 = 30\n",
      "Correct.\n",
      "Enter your choice:2\n",
      "Enter your answer:\n",
      "4 - 3 = 1\n",
      "Correct.\n",
      "Enter your choice:3\n",
      "Enter your answer:\n",
      "10 * 9 = 90\n",
      "Correct.\n",
      "Enter your choice:4\n",
      "Enter your answer:\n",
      "14 // 2 = 7\n",
      "Correct.\n",
      "Enter your choice:2\n",
      "Enter your answer:\n",
      "5 - 7 = 2\n",
      "Incorrect.\n",
      "Enter your choice:3\n",
      "Enter your answer:\n",
      "20 * 14 = 342\n",
      "Incorrect.\n",
      "Enter your choice:1\n",
      "Enter your answer:\n",
      "19 + 4 = 23\n",
      "Correct.\n",
      "Enter your choice:5\n",
      "Exit The Quiz.\n",
      "------------------------\n",
      "You answerd 7 questions with 5  correct.\n",
      "Your score is 71.43%. Thank you.\n"
     ]
    }
   ],
   "source": [
    "import random\n",
    "\n",
    "def display_intro():\n",
    "    title = \"** A Simple Math Quiz **\"\n",
    "    print(\"*\" * len(title))\n",
    "    print(title)\n",
    "    print(\"*\" * len(title))\n",
    "    \n",
    "def display_menu():\n",
    "    menu_list = [\"1. Addition\", \"2. Subtraction\", \"3. Multiplication\", \"4. Integer Division\", \"5. Exit\"]\n",
    "    for menu in menu_list:\n",
    "        print(menu)\n",
    "    \n",
    "def display_separator():\n",
    "    print(\"-\" * 24)\n",
    "    \n",
    "def get_user_input():\n",
    "    user_input = int(input(\"Enter your choice:\"))\n",
    "    while user_input > 5 or user_input <= 0:\n",
    "        print(\"Invalid menu option!.\")\n",
    "        user_input = int(input(\"Please try again:\"))\n",
    "    else:\n",
    "        return user_input\n",
    "    \n",
    "def get_user_solution(problem):\n",
    "    print(\"Enter your answer:\")\n",
    "    print(problem, end=\"\")\n",
    "    result = int(input(\" = \"))\n",
    "    return result\n",
    "\n",
    "def check_solution(user_solution, solution, count):\n",
    "    if user_solution == solution:\n",
    "        count += 1\n",
    "        print(\"Correct.\")\n",
    "        return count\n",
    "    else:\n",
    "        print(\"Incorrect.\")\n",
    "        return count\n",
    "\n",
    "def menu_option(index, count):\n",
    "    number_one = random.randrange(1, 21)\n",
    "    number_two = random.randrange(1, 21)\n",
    "    \n",
    "    if index == 1:\n",
    "        problem = str(number_one) + \" + \" + str(number_two)\n",
    "        solution = number_one + number_two\n",
    "        user_solution = get_user_solution(problem)\n",
    "        count = check_solution(user_solution, solution,count)\n",
    "        return count\n",
    "    elif index == 2:\n",
    "        problem = str(number_one) + \" - \" + str(number_two)\n",
    "        solution = number_one - number_two\n",
    "        user_solution = get_user_solution(problem)\n",
    "        count = check_solution(user_solution, solution, count)\n",
    "        return count\n",
    "    \n",
    "    elif index == 3:\n",
    "        problem = str(number_one) + \" * \" + str(number_two)\n",
    "        solution = number_one * number_two\n",
    "        user_solution = get_user_solution(problem)\n",
    "        count = check_solution(user_solution, solution,count)\n",
    "        return count\n",
    "    \n",
    "    else:\n",
    "        problem = str(number_one) + \" // \" + str(number_two)\n",
    "        solution = number_one // number_two\n",
    "        user_solution = get_user_solution(problem)\n",
    "        count = check_solution(user_solution, solution,count)\n",
    "        return count\n",
    "    \n",
    "def display_result(total, correct):\n",
    "    if total > 0:\n",
    "        result = correct / total\n",
    "        percentage = round((result * 100),2)\n",
    "    \n",
    "    if total == 0:\n",
    "        percentage = 0\n",
    "        \n",
    "    print(\"You answerd\", total, \"questions with\", correct, \" correct.\")\n",
    "    print(\"Your score is \", percentage, \"%. Thank you.\", sep=\"\")\n",
    "                 \n",
    "    \n",
    "    \n",
    "    \n",
    "def main():\n",
    "    display_intro()\n",
    "    display_menu()\n",
    "    display_separator()\n",
    "    get_user_input()\n",
    " \n",
    "    option = get_user_input()\n",
    "    total = 0\n",
    "    correct = 0\n",
    "    \n",
    "    while option != 5:\n",
    "        total += 1\n",
    "        correct = menu_option(option, correct)\n",
    "        option = get_user_input()\n",
    "    \n",
    "    print(\"Exit The Quiz.\")\n",
    "    display_separator()\n",
    "    display_result(total, correct)\n",
    "    \n",
    "    \n",
    "main()"
   ]
  },
  {
   "cell_type": "markdown",
   "id": "a103e607",
   "metadata": {},
   "source": [
    "# set in python"
   ]
  },
  {
   "cell_type": "code",
   "execution_count": 2,
   "id": "1d483321",
   "metadata": {},
   "outputs": [
    {
     "name": "stdout",
     "output_type": "stream",
     "text": [
      "{1, 2, 3, 4, 5, 6, 7}\n"
     ]
    }
   ],
   "source": [
    "integer_set = {1, 2, 3, 4, 5,  6, 7}\n",
    "print(integer_set)"
   ]
  },
  {
   "cell_type": "code",
   "execution_count": 3,
   "id": "392a2ba2",
   "metadata": {},
   "outputs": [
    {
     "name": "stdout",
     "output_type": "stream",
     "text": [
      "<class 'dict'>\n"
     ]
    }
   ],
   "source": [
    "set1 = {}\n",
    "print(type(set1))"
   ]
  },
  {
   "cell_type": "code",
   "execution_count": 4,
   "id": "44e0cf75",
   "metadata": {},
   "outputs": [],
   "source": [
    "set2 = set()"
   ]
  },
  {
   "cell_type": "code",
   "execution_count": 5,
   "id": "7d4bca47",
   "metadata": {},
   "outputs": [
    {
     "data": {
      "text/plain": [
       "set"
      ]
     },
     "execution_count": 5,
     "metadata": {},
     "output_type": "execute_result"
    }
   ],
   "source": [
    "type(set2)"
   ]
  },
  {
   "cell_type": "code",
   "execution_count": 8,
   "id": "d398bd4c",
   "metadata": {},
   "outputs": [],
   "source": [
    "month = {'Jauray', 'February', 'march', 'april', 'march'}\n",
    "month.add('July')"
   ]
  },
  {
   "cell_type": "code",
   "execution_count": 9,
   "id": "cd6a5504",
   "metadata": {},
   "outputs": [
    {
     "data": {
      "text/plain": [
       "{'February', 'Jauray', 'July', 'april', 'march'}"
      ]
     },
     "execution_count": 9,
     "metadata": {},
     "output_type": "execute_result"
    }
   ],
   "source": [
    "month"
   ]
  },
  {
   "cell_type": "code",
   "execution_count": 7,
   "id": "89d905ff",
   "metadata": {},
   "outputs": [
    {
     "data": {
      "text/plain": [
       "{'February', 'Jauray', 'July', 'april', 'march'}"
      ]
     },
     "execution_count": 7,
     "metadata": {},
     "output_type": "execute_result"
    }
   ],
   "source": [
    "month"
   ]
  },
  {
   "cell_type": "code",
   "execution_count": 10,
   "id": "a2feb74f",
   "metadata": {},
   "outputs": [],
   "source": [
    "#update method in set...\n",
    "month.update(['May', 'July','August'])\n"
   ]
  },
  {
   "cell_type": "code",
   "execution_count": 11,
   "id": "11cfc2eb",
   "metadata": {},
   "outputs": [
    {
     "data": {
      "text/plain": [
       "{'August', 'February', 'Jauray', 'July', 'May', 'april', 'march'}"
      ]
     },
     "execution_count": 11,
     "metadata": {},
     "output_type": "execute_result"
    }
   ],
   "source": [
    "month"
   ]
  },
  {
   "cell_type": "code",
   "execution_count": 12,
   "id": "d539bdf2",
   "metadata": {},
   "outputs": [
    {
     "data": {
      "text/plain": [
       "{'August', 'February', 'Jauray', 'May', 'april', 'march'}"
      ]
     },
     "execution_count": 12,
     "metadata": {},
     "output_type": "execute_result"
    }
   ],
   "source": [
    "month.discard('July')\n",
    "month"
   ]
  },
  {
   "cell_type": "code",
   "execution_count": 13,
   "id": "2b787e56",
   "metadata": {},
   "outputs": [
    {
     "data": {
      "text/plain": [
       "{'August', 'February', 'Jauray', 'april', 'march'}"
      ]
     },
     "execution_count": 13,
     "metadata": {},
     "output_type": "execute_result"
    }
   ],
   "source": [
    "month.remove('May')\n",
    "month"
   ]
  },
  {
   "cell_type": "code",
   "execution_count": null,
   "id": "a92e6e76",
   "metadata": {},
   "outputs": [],
   "source": [
    " "
   ]
  }
 ],
 "metadata": {
  "kernelspec": {
   "display_name": "Python 3 (ipykernel)",
   "language": "python",
   "name": "python3"
  },
  "language_info": {
   "codemirror_mode": {
    "name": "ipython",
    "version": 3
   },
   "file_extension": ".py",
   "mimetype": "text/x-python",
   "name": "python",
   "nbconvert_exporter": "python",
   "pygments_lexer": "ipython3",
   "version": "3.9.7"
  }
 },
 "nbformat": 4,
 "nbformat_minor": 5
}
