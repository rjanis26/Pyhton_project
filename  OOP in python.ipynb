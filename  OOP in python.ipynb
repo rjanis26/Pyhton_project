{
 "cells": [
  {
   "cell_type": "code",
   "execution_count": 1,
   "id": "a979cca1",
   "metadata": {},
   "outputs": [
    {
     "name": "stdout",
     "output_type": "stream",
     "text": [
      "Name:Zulkarnine, DOB:1990,  Height:72\n",
      "Name:Foo, DOB:1980,  Height:Invalid\n",
      "Name:Bar, DOB:2020,  Height:65\n",
      "Name:Baz, DOB:1993,  Height:80\n",
      "Name:Ban, DOB:1945,  Height:Invalid\n"
     ]
    }
   ],
   "source": [
    "class Person:\n",
    "    def __init__(self, name:str,year_of_birth:int, ht_inches:int=None):\n",
    "        self.__name = name\n",
    "        self.__date_of_birth = year_of_birth\n",
    "        self.__height = ht_inches\n",
    "        \n",
    "    def get_year_of_birth(self):\n",
    "         return self.__date_of_birth\n",
    "        \n",
    "    def get_name(self):\n",
    "        return self.__name\n",
    "    \n",
    "    def set_name(self, new_name):\n",
    "        if (self.__has_any_number(new_name)):\n",
    "            print(\"Sorry person name can't have number!.\")\n",
    "            return\n",
    "        self.__name = new_name\n",
    "        \n",
    "    \n",
    "    def __has_any_number(self, string):\n",
    "         return \"0\" in string\n",
    "        \n",
    "    def get_summary(self):\n",
    "        return f\"Name:{self.__name}, DOB:{self.__date_of_birth},  Height:{self.__height if self.__height is not None else 'Invalid'}\" \n",
    "     \n",
    "    \n",
    "person_list = [Person(\"Zulkarnine\", 1990, 72),\n",
    "              Person(\"Foo\", 1980),\n",
    "              Person(\"Bar\", 2020, 65),\n",
    "              Person(\"Baz\", 1993, 80),\n",
    "              Person(\"Ben\", 1900, 72),\n",
    "              Person(\"Ban\", 1945)]\n",
    "\n",
    "for person in person_list:\n",
    "    if person.get_year_of_birth() >= 1930:\n",
    "        print(person.get_summary())\n"
   ]
  },
  {
   "cell_type": "code",
   "execution_count": 27,
   "id": "3f695615",
   "metadata": {},
   "outputs": [
    {
     "name": "stdout",
     "output_type": "stream",
     "text": [
      "<class 'list'>\n"
     ]
    }
   ],
   "source": [
    "list = [2, 3, 4, 6]\n",
    "print(type(list))"
   ]
  },
  {
   "cell_type": "code",
   "execution_count": 4,
   "id": "ed0184af",
   "metadata": {},
   "outputs": [
    {
     "name": "stdout",
     "output_type": "stream",
     "text": [
      "<class 'tuple'>\n"
     ]
    }
   ],
   "source": [
    "tu = (2, 4 , 7, 9)\n",
    "print(type(tu))"
   ]
  },
  {
   "cell_type": "code",
   "execution_count": 6,
   "id": "d3dfd5da",
   "metadata": {},
   "outputs": [
    {
     "name": "stdout",
     "output_type": "stream",
     "text": [
      "{2, 3, 5, 7, 9, 11}\n",
      "<class 'set'>\n"
     ]
    }
   ],
   "source": [
    "dic = {2,3, 5, 7, 9, 11, 11, 9 , 7, 3}\n",
    "print(dic)\n",
    "print(type(dic))"
   ]
  },
  {
   "cell_type": "code",
   "execution_count": 2,
   "id": "5bd421f9",
   "metadata": {},
   "outputs": [
    {
     "name": "stdout",
     "output_type": "stream",
     "text": [
      "<class 'str'>\n",
      "<class 'int'>\n",
      "<class 'int'>\n",
      "<class 'int'>\n",
      "500\n"
     ]
    }
   ],
   "source": [
    "item1 = 'phone'\n",
    "item1_price = 100\n",
    "item1_quantity = 5\n",
    "item1_price_total = item1_price * item1_quantity \n",
    "\n",
    "print(type(item1))\n",
    "print(type(item1_price))\n",
    "print(type(item1_quantity))\n",
    "print(type(item1_price_total))\n",
    "print(item1_price_total)"
   ]
  },
  {
   "cell_type": "code",
   "execution_count": 4,
   "id": "0a4db025",
   "metadata": {},
   "outputs": [
    {
     "name": "stdout",
     "output_type": "stream",
     "text": [
      "100\n",
      "3000\n"
     ]
    }
   ],
   "source": [
    "class Item:\n",
    "    def __init__(self, name:str, price, quantity = 0):\n",
    "        self.name = name\n",
    "        self.price = price\n",
    "        self.quantity = quantity\n",
    "        \n",
    "        \n",
    "    def calculate_price_total(self):\n",
    "        return self.price * self.quantity\n",
    "    \n",
    "item1 = Item('Phone', 100, 1)\n",
    "item2 = Item('Laptop', 1000, 3)\n",
    "\n",
    "\n",
    "print(item1.calculate_price_total())\n",
    "print(item2.calculate_price_total())\n",
    " "
   ]
  },
  {
   "cell_type": "code",
   "execution_count": 5,
   "id": "51b29b67",
   "metadata": {},
   "outputs": [
    {
     "name": "stdout",
     "output_type": "stream",
     "text": [
      "Enter value 1: 12\n",
      "Enter value 2: 5\n",
      "sum of 12 and 5 is 17\n"
     ]
    }
   ],
   "source": [
    "class Addition:\n",
    "    def set_val(self):\n",
    "        self.var1 = int(input(\"Enter value 1: \"))\n",
    "        self.var2 = int(input(\"Enter value 2: \"))\n",
    "        \n",
    "    def add(self):\n",
    "        self.sum = self.var1 + self.var2\n",
    "    def disp(self):\n",
    "        print(f'sum of {self.var1} and {self.var2} is {self.sum}' )\n",
    "        \n",
    "add_obj = Addition()\n",
    "add_obj.set_val()\n",
    "add_obj.add()\n",
    "add_obj.disp()"
   ]
  },
  {
   "cell_type": "code",
   "execution_count": 17,
   "id": "7ee1143b",
   "metadata": {},
   "outputs": [
    {
     "name": "stdout",
     "output_type": "stream",
     "text": [
      "Etner value of var1: 23\n",
      "Enter the value o f var2: 23\n",
      "I am __str__ method.......\n",
      "Object is deleted.......\n"
     ]
    }
   ],
   "source": [
    "class Addition:\n",
    "    def __init__(self):\n",
    "        self.var1 = 0\n",
    "        self.var2 = 0\n",
    "        self.sum = 0\n",
    "        \n",
    "    def set_val(self):\n",
    "        self.var1 = int(input('Etner value of var1: '))\n",
    "        self.var2 = int(input('Enter the value o f var2: '))\n",
    "        \n",
    "    def add(self):\n",
    "        self.sum = self.var1 + self.var2 \n",
    "        \n",
    "    #def disp(self):\n",
    "       \n",
    "        #print(f'sum of {self.var1} and {self.var2} is {self.sum}')\n",
    "        \n",
    "    def __repr__(self):\n",
    "        return f'sum of {self.var1} and {self.var2}, is {self.sum}' \n",
    "    \n",
    "    def __str__(self):\n",
    "        return (\"I am __str__ method.......\")\n",
    "        \n",
    "    def __del__(self):\n",
    "        print(\"Object is deleted.......\")\n",
    "        \n",
    "add_obj = Addition()\n",
    "add_obj.set_val()\n",
    "add_obj.add()\n",
    "#add_obj.disp()\n",
    "print(add_obj)\n",
    "del add_obj\n",
    "   "
   ]
  },
  {
   "cell_type": "code",
   "execution_count": 19,
   "id": "c4573e71",
   "metadata": {},
   "outputs": [],
   "source": [
    "dept = ['HR', 'Finance', 'IT', 'Admin']"
   ]
  },
  {
   "cell_type": "code",
   "execution_count": 22,
   "id": "c2a708d6",
   "metadata": {},
   "outputs": [
    {
     "data": {
      "text/plain": [
       "['HR', 'Finance', 'IT', 'Admin', 'training']"
      ]
     },
     "execution_count": 22,
     "metadata": {},
     "output_type": "execute_result"
    }
   ],
   "source": [
    "dept"
   ]
  },
  {
   "cell_type": "code",
   "execution_count": 20,
   "id": "2c36b766",
   "metadata": {},
   "outputs": [],
   "source": [
    "dept.append('training')"
   ]
  },
  {
   "cell_type": "code",
   "execution_count": 21,
   "id": "680b20fb",
   "metadata": {},
   "outputs": [
    {
     "data": {
      "text/plain": [
       "['HR', 'Finance', 'IT', 'Admin', 'training']"
      ]
     },
     "execution_count": 21,
     "metadata": {},
     "output_type": "execute_result"
    }
   ],
   "source": [
    "dept"
   ]
  },
  {
   "cell_type": "code",
   "execution_count": 24,
   "id": "e52309ca",
   "metadata": {},
   "outputs": [],
   "source": [
    "dept.clear()"
   ]
  },
  {
   "cell_type": "code",
   "execution_count": 25,
   "id": "2f0ad7c0",
   "metadata": {},
   "outputs": [
    {
     "data": {
      "text/plain": [
       "[]"
      ]
     },
     "execution_count": 25,
     "metadata": {},
     "output_type": "execute_result"
    }
   ],
   "source": [
    "dept"
   ]
  },
  {
   "cell_type": "code",
   "execution_count": 13,
   "id": "6995b22c",
   "metadata": {},
   "outputs": [
    {
     "name": "stdout",
     "output_type": "stream",
     "text": [
      "Width: 2.5, Height: 2\n"
     ]
    }
   ],
   "source": [
    " class Rectangle:\n",
    "        def __init__(self, width:float, height:float):\n",
    "            self.width = width\n",
    "            self.height = height\n",
    "            \n",
    "        def calculate_area(self):\n",
    "            return self.height * self.width\n",
    "        \n",
    "        def __str__(self):\n",
    "            return (f'Width: {self.width}, Height: {self.height}') \n",
    "        \n",
    "rectangle = Rectangle(2.5, 2)\n",
    "rectangle.calculate_area()\n",
    "print(rectangle)\n",
    "\n",
    "            "
   ]
  },
  {
   "cell_type": "markdown",
   "id": "c1b09e2d",
   "metadata": {},
   "source": [
    "# @classmethod"
   ]
  },
  {
   "cell_type": "code",
   "execution_count": 17,
   "id": "e9de2ad6",
   "metadata": {},
   "outputs": [
    {
     "ename": "AttributeError",
     "evalue": "type object 'Rectangle' has no attribute 'new_square'",
     "output_type": "error",
     "traceback": [
      "\u001b[1;31m---------------------------------------------------------------------------\u001b[0m",
      "\u001b[1;31mAttributeError\u001b[0m                            Traceback (most recent call last)",
      "\u001b[1;32mC:\\Users\\MDANIS~1\\AppData\\Local\\Temp/ipykernel_14912/4266594344.py\u001b[0m in \u001b[0;36m<module>\u001b[1;34m\u001b[0m\n\u001b[0;32m     11\u001b[0m         \u001b[1;32mreturn\u001b[0m \u001b[0mcls\u001b[0m\u001b[1;33m(\u001b[0m\u001b[0mside_length\u001b[0m\u001b[1;33m,\u001b[0m \u001b[0mside_length\u001b[0m\u001b[1;33m)\u001b[0m\u001b[1;33m\u001b[0m\u001b[1;33m\u001b[0m\u001b[0m\n\u001b[0;32m     12\u001b[0m \u001b[1;33m\u001b[0m\u001b[0m\n\u001b[1;32m---> 13\u001b[1;33m \u001b[0msquare\u001b[0m \u001b[1;33m=\u001b[0m \u001b[0mRectangle\u001b[0m\u001b[1;33m.\u001b[0m\u001b[0mnew_square\u001b[0m\u001b[1;33m(\u001b[0m\u001b[1;36m5\u001b[0m\u001b[1;33m)\u001b[0m\u001b[1;33m\u001b[0m\u001b[1;33m\u001b[0m\u001b[0m\n\u001b[0m\u001b[0;32m     14\u001b[0m \u001b[0mprint\u001b[0m\u001b[1;33m(\u001b[0m\u001b[0msquare\u001b[0m\u001b[1;33m.\u001b[0m\u001b[0mcalculate_area\u001b[0m\u001b[1;33m(\u001b[0m\u001b[1;33m)\u001b[0m\u001b[1;33m)\u001b[0m\u001b[1;33m\u001b[0m\u001b[1;33m\u001b[0m\u001b[0m\n",
      "\u001b[1;31mAttributeError\u001b[0m: type object 'Rectangle' has no attribute 'new_square'"
     ]
    }
   ],
   "source": [
    "class Ractangle:\n",
    "    def __init__(self, width, height):\n",
    "        self.width = width\n",
    "        self.height = height\n",
    "        \n",
    "    def calculate_area(self):\n",
    "        return self.width * self.height\n",
    "    \n",
    "    @classmethod\n",
    "    def new_square(cls, side_length):\n",
    "        return cls(side_length, side_length)\n",
    "    \n",
    "square = Rectangle.new_square(5)\n",
    "print(square.calculate_area())"
   ]
  },
  {
   "cell_type": "code",
   "execution_count": 2,
   "id": "cefccb58",
   "metadata": {},
   "outputs": [],
   "source": [
    "class Pizza:\n",
    "        def __init__(self, toppings):\n",
    "            self.toppings = toppings\n",
    "            \n",
    "        @staticmethod\n",
    "        def validate_topping(topping):\n",
    "            if topping == \"pineapple\":\n",
    "                raise ValueError(\"No pineapples!\")\n",
    "            else:\n",
    "                return True\n",
    "\n",
    "ingredients = [\"cheese\", \"onions\", \"spam\"]\n",
    "if all (Pizza.validate_topping(i) for i in ingredients):\n",
    "    pizza = Pizza(ingredients)"
   ]
  },
  {
   "cell_type": "code",
   "execution_count": 27,
   "id": "604bdd52",
   "metadata": {},
   "outputs": [
    {
     "name": "stdout",
     "output_type": "stream",
     "text": [
      "1 2 3 4 5 6 7 8 9 \n"
     ]
    },
    {
     "ename": "TypeError",
     "evalue": "'NoneType' object is not iterable",
     "output_type": "error",
     "traceback": [
      "\u001b[1;31m---------------------------------------------------------------------------\u001b[0m",
      "\u001b[1;31mTypeError\u001b[0m                                 Traceback (most recent call last)",
      "\u001b[1;32mC:\\Users\\MDANIS~1\\AppData\\Local\\Temp/ipykernel_14912/937121313.py\u001b[0m in \u001b[0;36m<module>\u001b[1;34m\u001b[0m\n\u001b[0;32m     13\u001b[0m \u001b[0mprint\u001b[0m\u001b[1;33m(\u001b[0m\u001b[1;34m''\u001b[0m\u001b[1;33m)\u001b[0m\u001b[1;33m\u001b[0m\u001b[1;33m\u001b[0m\u001b[0m\n\u001b[0;32m     14\u001b[0m \u001b[1;33m\u001b[0m\u001b[0m\n\u001b[1;32m---> 15\u001b[1;33m \u001b[1;32mfor\u001b[0m \u001b[0mitem\u001b[0m \u001b[1;32min\u001b[0m \u001b[0mprocess_list\u001b[0m\u001b[1;33m(\u001b[0m\u001b[0mmy_list\u001b[0m\u001b[1;33m)\u001b[0m\u001b[1;33m:\u001b[0m\u001b[1;33m\u001b[0m\u001b[1;33m\u001b[0m\u001b[0m\n\u001b[0m\u001b[0;32m     16\u001b[0m     \u001b[0mprint\u001b[0m\u001b[1;33m(\u001b[0m\u001b[0mitem\u001b[0m\u001b[1;33m,\u001b[0m \u001b[0mend\u001b[0m\u001b[1;33m=\u001b[0m\u001b[1;34m' '\u001b[0m\u001b[1;33m)\u001b[0m\u001b[1;33m\u001b[0m\u001b[1;33m\u001b[0m\u001b[0m\n\u001b[0;32m     17\u001b[0m \u001b[0mprint\u001b[0m\u001b[1;33m(\u001b[0m\u001b[1;34m''\u001b[0m\u001b[1;33m)\u001b[0m\u001b[1;33m\u001b[0m\u001b[1;33m\u001b[0m\u001b[0m\n",
      "\u001b[1;31mTypeError\u001b[0m: 'NoneType' object is not iterable"
     ]
    }
   ],
   "source": [
    "my_list = [x for x in range(1, 10)]\n",
    "\n",
    "def process_list(my_list):\n",
    "    for i in range(len(my_list)):\n",
    "        my_list[i] *= 2\n",
    "        \n",
    "def process_list_with_generator(my_list):\n",
    "    for i in range(len(my_list)):\n",
    "        yield my_list[i] * 2\n",
    "        \n",
    "for item in my_list:\n",
    "    print(item, end=' ')\n",
    "print('')\n",
    "\n",
    "for item in process_list(my_list):\n",
    "    print(item, end=' ')\n",
    "print('')\n",
    "\n",
    "for item in process_list_with_generator(my_list):\n",
    "    print(item, end=' ')\n",
    "print('')"
   ]
  },
  {
   "cell_type": "code",
   "execution_count": 31,
   "id": "0f7f4833",
   "metadata": {},
   "outputs": [
    {
     "name": "stdout",
     "output_type": "stream",
     "text": [
      "10.666666666666666\n",
      "Telusko\n"
     ]
    }
   ],
   "source": [
    "class Student:\n",
    "    school = 'Telusko'\n",
    "    \n",
    "    def __init__(self, m1, m2, m3):\n",
    "        self.m1 = m1\n",
    "        self.m2 = m2\n",
    "        self.m3 = m3\n",
    "        \n",
    "    def avg(self):\n",
    "        return (self.m1 + self.m2 + self.m3)/3\n",
    "    \n",
    "    @classmethod\n",
    "    def info(cls):\n",
    "        return cls.school\n",
    "        \n",
    "s1 = Student(23, 4, 5)\n",
    "s2 = Student(1, 2, 3)\n",
    "print(s1.avg())\n",
    "print(s1.info())"
   ]
  },
  {
   "cell_type": "code",
   "execution_count": 33,
   "id": "3750b2b6",
   "metadata": {},
   "outputs": [
    {
     "name": "stdout",
     "output_type": "stream",
     "text": [
      "Rahul\n",
      "886012\n",
      "My name is Rahul\n",
      "IdNumber: 886012\n",
      "Post: Intern\n"
     ]
    }
   ],
   "source": [
    "# Python code to demonstrate how parent constructors\n",
    "# are called.\n",
    "\n",
    "# parent class\n",
    "class Person(object):\n",
    "\n",
    "\t# __init__ is known as the constructor\n",
    "\tdef __init__(self, name, idnumber):\n",
    "\t\tself.name = name\n",
    "\t\tself.idnumber = idnumber\n",
    "\n",
    "\tdef display(self):\n",
    "\t\tprint(self.name)\n",
    "\t\tprint(self.idnumber)\n",
    "\t\t\n",
    "\tdef details(self):\n",
    "\t\tprint(\"My name is {}\".format(self.name))\n",
    "\t\tprint(\"IdNumber: {}\".format(self.idnumber))\n",
    "\t\n",
    "# child class\n",
    "class Employee(Person):\n",
    "\tdef __init__(self, name, idnumber, salary, post):\n",
    "\t\tself.salary = salary\n",
    "\t\tself.post = post\n",
    "\n",
    "\t\t# invoking the __init__ of the parent class\n",
    "\t\tPerson.__init__(self, name, idnumber)\n",
    "\t\t\n",
    "\tdef details(self):\n",
    "\t\tprint(\"My name is {}\".format(self.name))\n",
    "\t\tprint(\"IdNumber: {}\".format(self.idnumber))\n",
    "\t\tprint(\"Post: {}\".format(self.post))\n",
    "\n",
    "\n",
    "# creation of an object variable or an instance\n",
    "a = Employee('Rahul', 886012, 200000, \"Intern\")\n",
    "\n",
    "# calling a function of the class Person using\n",
    "# its instance\n",
    "a.display()\n",
    "a.details()\n"
   ]
  },
  {
   "cell_type": "markdown",
   "id": "0208c929",
   "metadata": {},
   "source": [
    "# polymorphism"
   ]
  },
  {
   "cell_type": "code",
   "execution_count": 36,
   "id": "74c48f0d",
   "metadata": {},
   "outputs": [
    {
     "name": "stdout",
     "output_type": "stream",
     "text": [
      "Vegetable\n",
      "red\n",
      "Fruit\n",
      "Green\n"
     ]
    }
   ],
   "source": [
    "#with function and objects....\n",
    "class Tomato:\n",
    "    def type(self):\n",
    "        print(\"Vegetable\")\n",
    "        \n",
    "    def color(self):\n",
    "        print(\"red\")\n",
    "        \n",
    "class Apple:\n",
    "    def type(self):\n",
    "        print(\"Fruit\")\n",
    "    def color(self):\n",
    "        print(\"Green\")\n",
    "\n",
    "\n",
    "def fun(obj):\n",
    "    obj.type()\n",
    "    obj.color()\n",
    "    \n",
    "objTomato = Tomato()\n",
    "objapple = Apple()\n",
    "\n",
    "fun(objTomato)\n",
    "fun(objapple)\n",
    "    \n",
    "            "
   ]
  },
  {
   "cell_type": "code",
   "execution_count": 38,
   "id": "17d336d7",
   "metadata": {},
   "outputs": [
    {
     "name": "stdout",
     "output_type": "stream",
     "text": [
      "Dhaka\n",
      "Bangla\n",
      "Kualalumpur\n",
      "Malay\n"
     ]
    }
   ],
   "source": [
    "#polymorphism with class and method\n",
    "class Bangladesh:\n",
    "    def capital(self):\n",
    "        print(\"Dhaka\")\n",
    "    def language(self):\n",
    "        print(\"Bangla\")\n",
    "        \n",
    "class Malaysia:\n",
    "    def capital(self):\n",
    "        print(\"Kualalumpur\")\n",
    "    def language(self):\n",
    "        print(\"Malay\")\n",
    "        \n",
    "object_bangladesh = Bangladesh()\n",
    "object_malaysia = Malaysia()\n",
    "\n",
    "for country in (object_bangladesh, object_malaysia):\n",
    "    country.capital()\n",
    "    country.language()"
   ]
  },
  {
   "cell_type": "code",
   "execution_count": 42,
   "id": "69babaea",
   "metadata": {},
   "outputs": [
    {
     "name": "stdout",
     "output_type": "stream",
     "text": [
      "Many kind of of Birds available in the world.\n",
      "Most of bird can flay.\n",
      "Many kind of of Birds available in the world.\n",
      "Parrot can fly.\n",
      "Many kind of of Birds available in the world.\n",
      "Penguin can not fly.\n"
     ]
    }
   ],
   "source": [
    "#polymorphism with inheritance..\n",
    "\n",
    "class Bird():\n",
    "    def intro(self):\n",
    "        print(\"Many kind of of Birds available in the world.\")\n",
    "    def canFlay(self):\n",
    "        print(\"Most of bird can flay.\")\n",
    "        \n",
    "class Parrot(Bird):\n",
    "    def canFlay(self):\n",
    "        print(\"Parrot can fly.\")\n",
    "        \n",
    "class Penguin(Bird):\n",
    "    def canFlay(self):\n",
    "        print(\"Penguin can not fly.\")\n",
    "        \n",
    "        \n",
    "bird = Bird()\n",
    "parrot = Parrot()\n",
    "penguin = Penguin()\n",
    "\n",
    "#bird class\n",
    "bird.intro()\n",
    "bird.canFlay()\n",
    "\n",
    "#parrot class\n",
    "parrot.intro()\n",
    "parrot.canFlay()\n",
    "\n",
    "#penguin class\n",
    "penguin.intro()\n",
    "penguin.canFlay()\n"
   ]
  },
  {
   "cell_type": "code",
   "execution_count": 46,
   "id": "c260c750",
   "metadata": {},
   "outputs": [
    {
     "ename": "AttributeError",
     "evalue": "'Modifiers' object has no attribute '__public_name'",
     "output_type": "error",
     "traceback": [
      "\u001b[1;31m---------------------------------------------------------------------------\u001b[0m",
      "\u001b[1;31mAttributeError\u001b[0m                            Traceback (most recent call last)",
      "\u001b[1;32mC:\\Users\\MDANIS~1\\AppData\\Local\\Temp/ipykernel_14912/2782027312.py\u001b[0m in \u001b[0;36m<module>\u001b[1;34m\u001b[0m\n\u001b[0;32m      5\u001b[0m \u001b[1;33m\u001b[0m\u001b[0m\n\u001b[0;32m      6\u001b[0m \u001b[0mm\u001b[0m \u001b[1;33m=\u001b[0m \u001b[0mModifiers\u001b[0m\u001b[1;33m(\u001b[0m\u001b[1;34m\"Anisul\"\u001b[0m\u001b[1;33m)\u001b[0m\u001b[1;33m\u001b[0m\u001b[1;33m\u001b[0m\u001b[0m\n\u001b[1;32m----> 7\u001b[1;33m \u001b[0mprint\u001b[0m\u001b[1;33m(\u001b[0m\u001b[0mm\u001b[0m\u001b[1;33m.\u001b[0m\u001b[0m__public_name\u001b[0m\u001b[1;33m)\u001b[0m\u001b[1;33m\u001b[0m\u001b[1;33m\u001b[0m\u001b[0m\n\u001b[0m\u001b[0;32m      8\u001b[0m \u001b[0mprint\u001b[0m\u001b[1;33m(\u001b[0m\u001b[0mModifiers\u001b[0m\u001b[1;33m.\u001b[0m\u001b[0m__public_name\u001b[0m\u001b[1;33m)\u001b[0m\u001b[1;33m\u001b[0m\u001b[1;33m\u001b[0m\u001b[0m\n",
      "\u001b[1;31mAttributeError\u001b[0m: 'Modifiers' object has no attribute '__public_name'"
     ]
    }
   ],
   "source": [
    "#encapsualtion... Access Modifier....\n",
    "class Modifiers:\n",
    "    def __init__(self, name):\n",
    "        self.__public_name = name\n",
    "        \n",
    "m = Modifiers(\"Anisul\")\n",
    "print(m.__public_name)\n",
    "print(Modifiers.__public_name)\n"
   ]
  },
  {
   "cell_type": "code",
   "execution_count": 3,
   "id": "14787a6d",
   "metadata": {},
   "outputs": [
    {
     "name": "stdout",
     "output_type": "stream",
     "text": [
      "GeeksforGeeks\n"
     ]
    }
   ],
   "source": [
    "# Creating a Base class\n",
    "class Base:\n",
    "    def __init__(self):\n",
    "        self.a = \"GeeksforGeeks\"\n",
    "        self.__c = \"GeeksforGeeks\"\n",
    "  \n",
    "# Creating a derived class\n",
    "class Derived(Base):\n",
    "    def __init__(self):\n",
    "  \n",
    "        # Calling constructor of\n",
    "        # Base class\n",
    "        Base.__init__(self)\n",
    "        print(\"Calling private member of base class: \")\n",
    "        print(self.__c)\n",
    "  \n",
    "  \n",
    "# Driver code\n",
    "obj1 = Base()\n",
    "print(obj1.a)\n",
    "  \n",
    "# Uncommenting print(obj1.c) will\n",
    "# raise an AttributeError\n",
    "  \n",
    "# Uncommenting obj2 = Derived() will\n",
    "# also raise an AtrributeError as\n",
    "# private member of base class\n",
    "# is called inside derived class"
   ]
  },
  {
   "cell_type": "code",
   "execution_count": 50,
   "id": "eb3ac114",
   "metadata": {},
   "outputs": [
    {
     "name": "stdout",
     "output_type": "stream",
     "text": [
      "highschool\n"
     ]
    },
    {
     "ename": "AttributeError",
     "evalue": "'Base' object has no attribute '__c'",
     "output_type": "error",
     "traceback": [
      "\u001b[1;31m---------------------------------------------------------------------------\u001b[0m",
      "\u001b[1;31mAttributeError\u001b[0m                            Traceback (most recent call last)",
      "\u001b[1;32mC:\\Users\\MDANIS~1\\AppData\\Local\\Temp/ipykernel_14912/2959273330.py\u001b[0m in \u001b[0;36m<module>\u001b[1;34m\u001b[0m\n\u001b[0;32m     13\u001b[0m \u001b[0mobj\u001b[0m \u001b[1;33m=\u001b[0m \u001b[0mBase\u001b[0m\u001b[1;33m(\u001b[0m\u001b[1;33m)\u001b[0m\u001b[1;33m\u001b[0m\u001b[1;33m\u001b[0m\u001b[0m\n\u001b[0;32m     14\u001b[0m \u001b[0mprint\u001b[0m\u001b[1;33m(\u001b[0m\u001b[0mobj\u001b[0m\u001b[1;33m.\u001b[0m\u001b[0ma\u001b[0m\u001b[1;33m)\u001b[0m\u001b[1;33m\u001b[0m\u001b[1;33m\u001b[0m\u001b[0m\n\u001b[1;32m---> 15\u001b[1;33m \u001b[0mprint\u001b[0m\u001b[1;33m(\u001b[0m\u001b[0mobj\u001b[0m\u001b[1;33m.\u001b[0m\u001b[0m__c\u001b[0m\u001b[1;33m)\u001b[0m\u001b[1;33m\u001b[0m\u001b[1;33m\u001b[0m\u001b[0m\n\u001b[0m\u001b[0;32m     16\u001b[0m \u001b[1;33m\u001b[0m\u001b[0m\n",
      "\u001b[1;31mAttributeError\u001b[0m: 'Base' object has no attribute '__c'"
     ]
    }
   ],
   "source": [
    "class Base:\n",
    "    def __init__(self):\n",
    "        self.a = \"highschool\"\n",
    "        self.__c = \"highschool\"\n",
    "        \n",
    "class Derived(Base):\n",
    "    def __init__(self):\n",
    "        Base.__init__(self)\n",
    "        print(\"Calling private member of base class.\")\n",
    "        print(self.__c)\n",
    "    \n",
    "    \n",
    "obj = Base()\n",
    "print(obj.a)\n",
    "print(obj.__c)\n",
    "    "
   ]
  },
  {
   "cell_type": "code",
   "execution_count": 1,
   "id": "8b0e04f9",
   "metadata": {},
   "outputs": [
    {
     "name": "stdout",
     "output_type": "stream",
     "text": [
      "Circle\n",
      "I am a two-dimensional shape.\n",
      "Squares have each angle equal to 90 degrees.\n",
      "153.93804002589985\n"
     ]
    }
   ],
   "source": [
    "from math import pi\n",
    "\n",
    "\n",
    "class Shape:\n",
    "    def __init__(self, name):\n",
    "        self.name = name\n",
    "\n",
    "    def area(self):\n",
    "        pass\n",
    "\n",
    "    def fact(self):\n",
    "        return \"I am a two-dimensional shape.\"\n",
    "\n",
    "    def __str__(self):\n",
    "        return self.name\n",
    "\n",
    "\n",
    "class Square(Shape):\n",
    "    def __init__(self, length):\n",
    "        super().__init__(\"Square\")\n",
    "        self.length = length\n",
    "\n",
    "    def area(self):\n",
    "        return self.length**2\n",
    "\n",
    "    def fact(self):\n",
    "        return \"Squares have each angle equal to 90 degrees.\"\n",
    "\n",
    "\n",
    "class Circle(Shape):\n",
    "    def __init__(self, radius):\n",
    "        super().__init__(\"Circle\")\n",
    "        self.radius = radius\n",
    "\n",
    "    def area(self):\n",
    "        return pi*self.radius**2\n",
    "\n",
    "\n",
    "a = Square(4)\n",
    "b = Circle(7)\n",
    "print(b)\n",
    "print(b.fact())\n",
    "print(a.fact())\n",
    "print(b.area())\n"
   ]
  },
  {
   "cell_type": "code",
   "execution_count": 4,
   "id": "4e1f1d81",
   "metadata": {},
   "outputs": [
    {
     "ename": "TypeError",
     "evalue": "Vehicle() takes no arguments",
     "output_type": "error",
     "traceback": [
      "\u001b[1;31m---------------------------------------------------------------------------\u001b[0m",
      "\u001b[1;31mTypeError\u001b[0m                                 Traceback (most recent call last)",
      "\u001b[1;32mC:\\Users\\MDANIS~1\\AppData\\Local\\Temp/ipykernel_8480/3990215911.py\u001b[0m in \u001b[0;36m<module>\u001b[1;34m\u001b[0m\n\u001b[0;32m      6\u001b[0m         \u001b[1;32mreturn\u001b[0m \u001b[0mself\u001b[0m\u001b[1;33m.\u001b[0m\u001b[0mmax_speed\u001b[0m \u001b[1;33m*\u001b[0m \u001b[0mself\u001b[0m\u001b[1;33m.\u001b[0m\u001b[0mmileage\u001b[0m\u001b[1;33m\u001b[0m\u001b[1;33m\u001b[0m\u001b[0m\n\u001b[0;32m      7\u001b[0m \u001b[1;33m\u001b[0m\u001b[0m\n\u001b[1;32m----> 8\u001b[1;33m \u001b[0msupperCar\u001b[0m \u001b[1;33m=\u001b[0m \u001b[0mVehicle\u001b[0m\u001b[1;33m(\u001b[0m\u001b[1;36m240\u001b[0m\u001b[1;33m,\u001b[0m \u001b[1;36m28\u001b[0m\u001b[1;33m)\u001b[0m\u001b[1;33m\u001b[0m\u001b[1;33m\u001b[0m\u001b[0m\n\u001b[0m\u001b[0;32m      9\u001b[0m \u001b[0mprint\u001b[0m\u001b[1;33m(\u001b[0m\u001b[0msupperCar\u001b[0m\u001b[1;33m.\u001b[0m\u001b[0mmax_speed\u001b[0m\u001b[1;33m,\u001b[0m \u001b[0msupperCar\u001b[0m\u001b[1;33m.\u001b[0m\u001b[0mmileage\u001b[0m\u001b[1;33m)\u001b[0m\u001b[1;33m\u001b[0m\u001b[1;33m\u001b[0m\u001b[0m\n\u001b[0;32m     10\u001b[0m \u001b[0mprint\u001b[0m\u001b[1;33m(\u001b[0m\u001b[0msupperCar\u001b[0m\u001b[1;33m.\u001b[0m\u001b[0mcount\u001b[0m\u001b[1;33m(\u001b[0m\u001b[1;33m)\u001b[0m\u001b[1;33m)\u001b[0m\u001b[1;33m\u001b[0m\u001b[1;33m\u001b[0m\u001b[0m\n",
      "\u001b[1;31mTypeError\u001b[0m: Vehicle() takes no arguments"
     ]
    }
   ],
   "source": [
    "class Vehicle:\n",
    "    def __init___(self, max_speed, mileage):\n",
    "        slef.max_speed = max_speed\n",
    "        self.mileage = mileage\n",
    "    def count(self):\n",
    "        return self.max_speed * self.mileage\n",
    "        \n",
    "supperCar = Vehicle(240, 28)\n",
    "print(supperCar.max_speed, supperCar.mileage)\n",
    "print(supperCar.count())"
   ]
  },
  {
   "cell_type": "code",
   "execution_count": null,
   "id": "394746a5",
   "metadata": {},
   "outputs": [],
   "source": []
  }
 ],
 "metadata": {
  "kernelspec": {
   "display_name": "Python 3 (ipykernel)",
   "language": "python",
   "name": "python3"
  },
  "language_info": {
   "codemirror_mode": {
    "name": "ipython",
    "version": 3
   },
   "file_extension": ".py",
   "mimetype": "text/x-python",
   "name": "python",
   "nbconvert_exporter": "python",
   "pygments_lexer": "ipython3",
   "version": "3.9.7"
  }
 },
 "nbformat": 4,
 "nbformat_minor": 5
}
