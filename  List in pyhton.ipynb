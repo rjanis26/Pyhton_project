{
 "cells": [
  {
   "cell_type": "code",
   "execution_count": 2,
   "id": "8ecda1c2",
   "metadata": {},
   "outputs": [
    {
     "name": "stdout",
     "output_type": "stream",
     "text": [
      "7\n"
     ]
    }
   ],
   "source": [
    "def get_len(list):\n",
    "    if list != []:\n",
    "        elist = enumerate(list, 1)\n",
    "        return max(index for (index, val) in elist)\n",
    "    else:\n",
    "        return 0\n",
    "    \n",
    "list = [87, 23, 56, 76, 1, 3, 5]\n",
    "print(get_len(list))"
   ]
  },
  {
   "cell_type": "code",
   "execution_count": 5,
   "id": "108aedbd",
   "metadata": {},
   "outputs": [
    {
     "name": "stdout",
     "output_type": "stream",
     "text": [
      "(0, 'eat')\n",
      "(1, 'sleep')\n",
      "(2, 'repeat')\n",
      "100 eat\n",
      "101 sleep\n",
      "102 repeat\n",
      "0\n",
      "eat\n",
      "1\n",
      "sleep\n",
      "2\n",
      "repeat\n"
     ]
    }
   ],
   "source": [
    "# Python program to illustrate\n",
    "# enumerate function in loops\n",
    "l1 = [\"eat\",\"sleep\",\"repeat\"]\n",
    "\n",
    "# printing the tuples in object directly\n",
    "for ele in enumerate(l1):\n",
    "\tprint (ele)\n",
    "print\n",
    "# changing index and printing separately\n",
    "for count,ele in enumerate(l1,100):\n",
    "    print (count,ele)\n",
    "\n",
    "#getting desired output from tuple\n",
    "for count,ele in enumerate(l1):\n",
    "    \n",
    "    print(count)\n",
    "    print(ele)\n"
   ]
  },
  {
   "cell_type": "code",
   "execution_count": 12,
   "id": "36d63c3f",
   "metadata": {},
   "outputs": [
    {
     "name": "stdout",
     "output_type": "stream",
     "text": [
      "(0, 'eat')\n",
      "(1, 'sleep')\n",
      "(2, 'repeat')\n",
      "******\n",
      "100 - eat\n",
      "101 - sleep\n",
      "102 - repeat\n",
      "-----------\n",
      "0 eat\n",
      "1 sleep\n",
      "2 repeat\n"
     ]
    }
   ],
   "source": [
    "list = [\"eat\", \"sleep\", \"repeat\"]\n",
    "for ele in enumerate(list):\n",
    "    print(ele)\n",
    "print(\"******\")\n",
    "for count, ele in enumerate(list, 100):\n",
    "    print(count,\"-\", ele)\n",
    "print(\"-----------\")\n",
    "for count, ele in enumerate(list):\n",
    "    print(count, ele)\n",
    "    #print(ele)"
   ]
  },
  {
   "cell_type": "code",
   "execution_count": 13,
   "id": "1b9bc1fc",
   "metadata": {},
   "outputs": [
    {
     "name": "stdout",
     "output_type": "stream",
     "text": [
      "(0, 'eat')\n",
      "(1, 'sleep')\n",
      "(2, 'repeat')\n",
      "100 eat\n",
      "101 sleep\n",
      "102 repeat\n",
      "0\n",
      "eat\n",
      "1\n",
      "sleep\n",
      "2\n",
      "repeat\n"
     ]
    }
   ],
   "source": [
    "# Python program to illustrate\n",
    "# enumerate function in loops\n",
    "l1 = [\"eat\",\"sleep\",\"repeat\"]\n",
    "\n",
    "# printing the tuples in object directly\n",
    "for ele in enumerate(l1):\n",
    "\tprint (ele)\n",
    "print\n",
    "# changing index and printing separately\n",
    "for count,ele in enumerate(l1,100):\n",
    "\tprint (count,ele)\n",
    "\n",
    "#getting desired output from tuple\n",
    "for count,ele in enumerate(l1):\n",
    "    print(count)\n",
    "    print(ele)\n"
   ]
  },
  {
   "cell_type": "markdown",
   "id": "6a00f318",
   "metadata": {},
   "source": [
    "# How to find the length of a list without using len function in python"
   ]
  },
  {
   "cell_type": "code",
   "execution_count": 21,
   "id": "ad968b70",
   "metadata": {},
   "outputs": [
    {
     "name": "stdout",
     "output_type": "stream",
     "text": [
      "10\n",
      "Lenght of the list: 10\n",
      "100\n"
     ]
    }
   ],
   "source": [
    "def find_len(list):\n",
    "    if list is not None:\n",
    "        new_list = enumerate(list, 1)\n",
    "        return max(index for (index, val) in new_list)\n",
    "    else:\n",
    "        return 0\n",
    "    \n",
    "list = [1, 3, 5, 7, 9, 11, 13, 15, 17, 19]\n",
    "print(find_len(list))\n",
    "#Build in function in python.....\n",
    "print(\"Lenght of the list:\",len(list))\n",
    "print(sum(list))\n",
    "    "
   ]
  },
  {
   "cell_type": "code",
   "execution_count": 22,
   "id": "7898493f",
   "metadata": {},
   "outputs": [
    {
     "name": "stdout",
     "output_type": "stream",
     "text": [
      "15\n"
     ]
    }
   ],
   "source": [
    "list = [1, 2, 3, 4, 5]\n",
    "print(sum(list))"
   ]
  },
  {
   "cell_type": "code",
   "execution_count": 23,
   "id": "c2fdea2f",
   "metadata": {},
   "outputs": [
    {
     "name": "stdout",
     "output_type": "stream",
     "text": [
      "25\n"
     ]
    }
   ],
   "source": [
    "list = [1, 3, 5, 7, 9]\n",
    "sum = 0\n",
    "for i in list:\n",
    "    sum += i\n",
    "print(sum)"
   ]
  },
  {
   "cell_type": "code",
   "execution_count": 64,
   "id": "22d3e4c6",
   "metadata": {},
   "outputs": [
    {
     "name": "stdout",
     "output_type": "stream",
     "text": [
      "Enter number of the elements: 5\n",
      "Enter the elements:4\n",
      "Enter the elements:3\n",
      "Enter the elements:3\n",
      "Enter the elements:2\n",
      "Enter the elements:1\n",
      "Largest elements of the list: 4\n",
      "Sum: 13\n"
     ]
    }
   ],
   "source": [
    "a = []\n",
    "n = int(input(\"Enter number of the elements: \"))\n",
    "for i in range(1, n+1):\n",
    "    b = int(input(\"Enter the elements:\"))\n",
    "    a.append(b)\n",
    "a.sort()\n",
    "print(\"Largest elements of the list:\", a[n-1])\n",
    "sum = 0\n",
    "for i in a:\n",
    "    sum += i\n",
    "print(\"Sum:\",sum)"
   ]
  },
  {
   "cell_type": "code",
   "execution_count": 48,
   "id": "acb7826a",
   "metadata": {},
   "outputs": [
    {
     "ename": "TypeError",
     "evalue": "unsupported operand type(s) for -: 'builtin_function_or_method' and 'int'",
     "output_type": "error",
     "traceback": [
      "\u001b[1;31m---------------------------------------------------------------------------\u001b[0m",
      "\u001b[1;31mTypeError\u001b[0m                                 Traceback (most recent call last)",
      "\u001b[1;32mC:\\Users\\MDANIS~1\\AppData\\Local\\Temp/ipykernel_7344/13193713.py\u001b[0m in \u001b[0;36m<module>\u001b[1;34m\u001b[0m\n\u001b[0;32m      2\u001b[0m \u001b[1;32mfor\u001b[0m  \u001b[0mx\u001b[0m \u001b[1;32min\u001b[0m \u001b[0mnew_list\u001b[0m\u001b[1;33m:\u001b[0m\u001b[1;33m\u001b[0m\u001b[1;33m\u001b[0m\u001b[0m\n\u001b[0;32m      3\u001b[0m     \u001b[0mnew_list\u001b[0m\u001b[1;33m.\u001b[0m\u001b[0msort\u001b[0m\u001b[1;33m(\u001b[0m\u001b[1;33m)\u001b[0m\u001b[1;33m\u001b[0m\u001b[1;33m\u001b[0m\u001b[0m\n\u001b[1;32m----> 4\u001b[1;33m \u001b[0mprint\u001b[0m\u001b[1;33m(\u001b[0m\u001b[1;34m\"Largest value in the list:\"\u001b[0m\u001b[1;33m,\u001b[0m \u001b[0mnew_list\u001b[0m\u001b[1;33m(\u001b[0m\u001b[0mlen\u001b[0m\u001b[1;33m-\u001b[0m\u001b[1;36m1\u001b[0m\u001b[1;33m)\u001b[0m\u001b[1;33m)\u001b[0m\u001b[1;33m\u001b[0m\u001b[1;33m\u001b[0m\u001b[0m\n\u001b[0m\u001b[0;32m      5\u001b[0m \u001b[0mprint\u001b[0m\u001b[1;33m(\u001b[0m\u001b[0mmin\u001b[0m\u001b[1;33m(\u001b[0m\u001b[0mnew_list\u001b[0m\u001b[1;33m)\u001b[0m\u001b[1;33m)\u001b[0m\u001b[1;33m\u001b[0m\u001b[1;33m\u001b[0m\u001b[0m\n\u001b[0;32m      6\u001b[0m \u001b[0mprint\u001b[0m\u001b[1;33m(\u001b[0m\u001b[0mmax\u001b[0m\u001b[1;33m(\u001b[0m\u001b[0mnew_list\u001b[0m\u001b[1;33m)\u001b[0m\u001b[1;33m)\u001b[0m\u001b[1;33m\u001b[0m\u001b[1;33m\u001b[0m\u001b[0m\n",
      "\u001b[1;31mTypeError\u001b[0m: unsupported operand type(s) for -: 'builtin_function_or_method' and 'int'"
     ]
    }
   ],
   "source": [
    "new_list = [1, 2, 300, 4, 5, -1, 55, 90, 6, 3]\n",
    "for  x in new_list:\n",
    "    new_list.sort()\n",
    "print(\"Largest value in the list:\", new_list(len-1))\n",
    "print(min(new_list))\n",
    "print(max(new_list))"
   ]
  },
  {
   "cell_type": "code",
   "execution_count": 51,
   "id": "e2560111",
   "metadata": {},
   "outputs": [
    {
     "name": "stdout",
     "output_type": "stream",
     "text": [
      "Second largest number: 300\n"
     ]
    }
   ],
   "source": [
    "new_list =  [1, 2, 300, 4, 5, -1, 55, 90, 6, 3]\n",
    "for index in new_list:\n",
    "    new_list.sort()\n",
    "print(\"Second largest number:\",(index - 0))\n"
   ]
  },
  {
   "cell_type": "code",
   "execution_count": 87,
   "id": "36c8cba3",
   "metadata": {},
   "outputs": [
    {
     "ename": "TypeError",
     "evalue": "'int' object is not iterable",
     "output_type": "error",
     "traceback": [
      "\u001b[1;31m---------------------------------------------------------------------------\u001b[0m",
      "\u001b[1;31mTypeError\u001b[0m                                 Traceback (most recent call last)",
      "\u001b[1;32mC:\\Users\\MDANIS~1\\AppData\\Local\\Temp/ipykernel_7344/3625820012.py\u001b[0m in \u001b[0;36m<module>\u001b[1;34m\u001b[0m\n\u001b[0;32m      1\u001b[0m \u001b[0mlist\u001b[0m \u001b[1;33m=\u001b[0m \u001b[1;33m[\u001b[0m\u001b[1;36m99\u001b[0m\u001b[1;33m,\u001b[0m\u001b[1;36m23\u001b[0m\u001b[1;33m,\u001b[0m \u001b[1;36m1\u001b[0m\u001b[1;33m,\u001b[0m \u001b[1;36m4\u001b[0m\u001b[1;33m,\u001b[0m \u001b[1;36m5\u001b[0m\u001b[1;33m,\u001b[0m \u001b[1;36m66\u001b[0m\u001b[1;33m,\u001b[0m\u001b[1;36m5\u001b[0m\u001b[1;33m]\u001b[0m\u001b[1;33m\u001b[0m\u001b[1;33m\u001b[0m\u001b[0m\n\u001b[1;32m----> 2\u001b[1;33m \u001b[1;32mfor\u001b[0m \u001b[0mx\u001b[0m \u001b[1;32min\u001b[0m \u001b[0mlen\u001b[0m\u001b[1;33m(\u001b[0m\u001b[0mlist\u001b[0m\u001b[1;33m)\u001b[0m\u001b[1;33m:\u001b[0m\u001b[1;33m\u001b[0m\u001b[1;33m\u001b[0m\u001b[0m\n\u001b[0m\u001b[0;32m      3\u001b[0m     \u001b[0mlist\u001b[0m\u001b[1;33m.\u001b[0m\u001b[0msort\u001b[0m\u001b[1;33m(\u001b[0m\u001b[1;33m)\u001b[0m\u001b[1;33m\u001b[0m\u001b[1;33m\u001b[0m\u001b[0m\n\u001b[0;32m      4\u001b[0m \u001b[0mprint\u001b[0m\u001b[1;33m(\u001b[0m\u001b[1;34m\"largest in the list:\"\u001b[0m\u001b[1;33m,\u001b[0m \u001b[0mlist\u001b[0m\u001b[1;33m[\u001b[0m\u001b[0mlen\u001b[0m\u001b[1;33m(\u001b[0m\u001b[0mlist\u001b[0m \u001b[1;33m-\u001b[0m \u001b[1;36m1\u001b[0m\u001b[1;33m)\u001b[0m\u001b[1;33m]\u001b[0m\u001b[1;33m)\u001b[0m\u001b[1;33m\u001b[0m\u001b[1;33m\u001b[0m\u001b[0m\n\u001b[0;32m      5\u001b[0m \u001b[1;33m\u001b[0m\u001b[0m\n",
      "\u001b[1;31mTypeError\u001b[0m: 'int' object is not iterable"
     ]
    }
   ],
   "source": [
    "list = [99,23, 1, 4, 5, 66,5]\n",
    "for x in len(list):\n",
    "    list.sort()\n",
    "print(\"largest in the list:\", list[len(list - 1)])\n",
    "        "
   ]
  },
  {
   "cell_type": "code",
   "execution_count": 62,
   "id": "f97a60f7",
   "metadata": {},
   "outputs": [
    {
     "name": "stdout",
     "output_type": "stream",
     "text": [
      "Enter the numbr of  elements:4\n",
      "Enter the element:2\n",
      "Enter the element:4\n",
      "Enter the element:67\n",
      "Enter the element:5\n",
      "Second largest element of the list: 2\n"
     ]
    }
   ],
   "source": [
    "list = []\n",
    "n = int(input(\"Enter the numbr of  elements:\"))\n",
    "for i in range(1, n+1):\n",
    "    b = int(input(\"Enter the element:\"))\n",
    "    a.append(b)\n",
    "a.sort()\n",
    "print(\"Second largest element of the list:\", a[n-1])"
   ]
  },
  {
   "cell_type": "code",
   "execution_count": 76,
   "id": "d27798c3",
   "metadata": {},
   "outputs": [
    {
     "name": "stdout",
     "output_type": "stream",
     "text": [
      "Enter the number of element:5\n",
      "Enter the element:1\n",
      "Enter the element:2\n",
      "Enter the element:3\n",
      "Enter the element:4\n",
      "Enter the element:5\n",
      "15\n",
      "Even list: [2, 4]\n",
      "Even digits: 15\n",
      "Odd list: [1, 3, 5]\n",
      "odd counter: 15\n"
     ]
    }
   ],
   "source": [
    "a = []\n",
    "n = int(input(\"Enter the number of element:\"))\n",
    "for i in range(1, n+1):\n",
    "    b = int(input(\"Enter the element:\"))\n",
    "    a.append(b)\n",
    "even = []\n",
    "odd = []\n",
    "count = 0\n",
    "sum = 0\n",
    "for x in a:\n",
    "    if x%2 == 0:\n",
    "        even.append(x)\n",
    "        count += x\n",
    "        sum += x\n",
    "    else:\n",
    "        odd.append(x)\n",
    "        count += x\n",
    "        sum += x\n",
    "print(sum)\n",
    "print(\"Even list:\", even)\n",
    "print(\"Even digits:\", count)\n",
    "print(\"Odd list:\", odd)\n",
    "print(\"odd counter:\", count)\n"
   ]
  },
  {
   "cell_type": "code",
   "execution_count": 84,
   "id": "a8f65e38",
   "metadata": {},
   "outputs": [
    {
     "name": "stdout",
     "output_type": "stream",
     "text": [
      "The even list: [2, 4, 6]\n",
      "The odd list: [1, 3, 5]\n"
     ]
    }
   ],
   "source": [
    "list = [1, 2, 3, 4, 5,6]\n",
    "even = []\n",
    "odd = []\n",
    "for i in list:\n",
    "    if i % 2 == 0:\n",
    "        even.append(i)\n",
    "    else:\n",
    "        odd.append(i)\n",
    "        \n",
    "print(\"The even list:\", even)\n",
    "\n",
    "print(\"The odd list:\", odd)"
   ]
  },
  {
   "cell_type": "code",
   "execution_count": 85,
   "id": "e980ea36",
   "metadata": {},
   "outputs": [
    {
     "name": "stdout",
     "output_type": "stream",
     "text": [
      "Enter number of the element:4\n",
      "Enter the element:1\n",
      "Enter the element:2\n",
      "Enter the element:3\n",
      "Enter the element:4\n",
      "Enter of the number of element:2\n",
      "Enter the element:12\n",
      "Enter the element:32\n",
      "sorted list: [1, 2, 3, 4, 12, 32]\n"
     ]
    }
   ],
   "source": [
    "list1 = []\n",
    "list2 = []\n",
    "\n",
    "n1 = int(input(\"Enter number of the element:\"))\n",
    "for i in range(1, n1+1):\n",
    "    b = int(input(\"Enter the element:\"))\n",
    "    list1.append(b)\n",
    "    \n",
    "n2 = int(input(\"Enter of the number of element:\"))\n",
    "for i in range(1, n2 + 1):\n",
    "    c = int(input(\"Enter the element:\"))\n",
    "    list2.append(c)\n",
    "    \n",
    "new_list = list1 + list2\n",
    "new_list.sort()\n",
    "print(\"sorted list:\", new_list)\n"
   ]
  },
  {
   "cell_type": "code",
   "execution_count": 90,
   "id": "e6e7a569",
   "metadata": {},
   "outputs": [
    {
     "name": "stdout",
     "output_type": "stream",
     "text": [
      "Enter of the element:5\n",
      "Enter the element:10\n",
      "Enter the element:10\n",
      "Enter the element:10\n",
      "Enter the element:20\n",
      "Enter the element:20\n",
      "Non_duplicate items: [10, 20]\n"
     ]
    }
   ],
   "source": [
    "a = []\n",
    "n = int(input(\"Enter of the element:\"))\n",
    "for x in range(0, n):\n",
    "    element = int(input(\"Enter the element:\"))\n",
    "    a.append(element)\n",
    "b = set()\n",
    "unique = []\n",
    "for x in a:\n",
    "    if x not in b:\n",
    "        unique.append(x)\n",
    "        b.add(x)\n",
    "print(\"Non_duplicate items:\", unique)"
   ]
  },
  {
   "cell_type": "markdown",
   "id": "941307fb",
   "metadata": {},
   "source": [
    "# List Comprehension"
   ]
  },
  {
   "cell_type": "code",
   "execution_count": 1,
   "id": "b0962bf5",
   "metadata": {},
   "outputs": [],
   "source": [
    "a = [1, 3, 5, 7, 9]\n"
   ]
  },
  {
   "cell_type": "code",
   "execution_count": 58,
   "id": "9dd87852",
   "metadata": {},
   "outputs": [
    {
     "name": "stdout",
     "output_type": "stream",
     "text": [
      "[1, 4, 9, 16, 25, 36, 49, 64, 81, 100, 121, 144, 169, 196, 225, 256, 289, 324, 361, 400, 441, 484, 529, 576, 625, 676, 729, 784, 841, 900, 961, 1024, 1089, 1156, 1225, 1296, 1369, 1444, 1521, 1600, 1681, 1764, 1849, 1936, 2025, 2116, 2209, 2304, 2401, 2500, 2601, 2704, 2809, 2916, 3025, 3136, 3249, 3364, 3481, 3600, 3721, 3844, 3969, 4096, 4225, 4356, 4489, 4624, 4761, 4900, 5041, 5184, 5329, 5476, 5625, 5776, 5929, 6084, 6241, 6400, 6561, 6724, 6889, 7056, 7225, 7396, 7569, 7744, 7921, 8100, 8281, 8464, 8649, 8836, 9025, 9216, 9409, 9604, 9801, 10000]\n"
     ]
    }
   ],
   "source": [
    "square = []\n",
    "for i in range(1, 101):\n",
    "    square.append(i ** 2)\n",
    "    \n",
    "print(square)"
   ]
  },
  {
   "cell_type": "code",
   "execution_count": 59,
   "id": "a30073a1",
   "metadata": {},
   "outputs": [
    {
     "name": "stdout",
     "output_type": "stream",
     "text": [
      "[1, 4, 9, 16, 25, 36, 49, 64, 81, 100, 121, 144, 169, 196, 225, 256, 289, 324, 361, 400, 441, 484, 529, 576, 625, 676, 729, 784, 841, 900, 961, 1024, 1089, 1156, 1225, 1296, 1369, 1444, 1521, 1600, 1681, 1764, 1849, 1936, 2025, 2116, 2209, 2304, 2401, 2500, 2601, 2704, 2809, 2916, 3025, 3136, 3249, 3364, 3481, 3600, 3721, 3844, 3969, 4096, 4225, 4356, 4489, 4624, 4761, 4900, 5041, 5184, 5329, 5476, 5625, 5776, 5929, 6084, 6241, 6400, 6561, 6724, 6889, 7056, 7225, 7396, 7569, 7744, 7921, 8100, 8281, 8464, 8649, 8836, 9025, 9216, 9409, 9604, 9801, 10000]\n"
     ]
    }
   ],
   "source": [
    "sqr = [i**2 for i in range(1, 101)]\n",
    "print(sqr)"
   ]
  },
  {
   "cell_type": "code",
   "execution_count": 60,
   "id": "b646dfe1",
   "metadata": {},
   "outputs": [
    {
     "name": "stdout",
     "output_type": "stream",
     "text": [
      "[1, 4, 4, 1, 0, 1, 4, 4, 1, 0, 1, 4, 4, 1, 0, 1, 4, 4, 1, 0, 1, 4, 4, 1, 0, 1, 4, 4, 1, 0, 1, 4, 4, 1, 0, 1, 4, 4, 1, 0, 1, 4, 4, 1, 0, 1, 4, 4, 1, 0, 1, 4, 4, 1, 0, 1, 4, 4, 1, 0, 1, 4, 4, 1, 0, 1, 4, 4, 1, 0, 1, 4, 4, 1, 0, 1, 4, 4, 1, 0, 1, 4, 4, 1, 0, 1, 4, 4, 1, 0, 1, 4, 4, 1, 0, 1, 4, 4, 1, 0]\n"
     ]
    }
   ],
   "source": [
    "rmainders5 = [x ** 2 % 5 for x in range(1, 101)]\n",
    "print(rmainders5)"
   ]
  },
  {
   "cell_type": "code",
   "execution_count": 61,
   "id": "7017b7c0",
   "metadata": {},
   "outputs": [
    {
     "name": "stdout",
     "output_type": "stream",
     "text": [
      "[1, 4, 9, 5, 3, 3, 5, 9, 4, 1, 0, 1, 4, 9, 5, 3, 3, 5, 9, 4, 1, 0, 1, 4, 9, 5, 3, 3, 5, 9, 4, 1, 0, 1, 4, 9, 5, 3, 3, 5, 9, 4, 1, 0, 1, 4, 9, 5, 3, 3, 5, 9, 4, 1, 0, 1, 4, 9, 5, 3, 3, 5, 9, 4, 1, 0, 1, 4, 9, 5, 3, 3, 5, 9, 4, 1, 0, 1, 4, 9, 5, 3, 3, 5, 9, 4, 1, 0, 1, 4, 9, 5, 3, 3, 5, 9, 4, 1, 0, 1]\n"
     ]
    }
   ],
   "source": [
    "remainders55 = [ x**2 % 11 for x in range(1, 101)]\n",
    "print(remainders55)"
   ]
  },
  {
   "cell_type": "code",
   "execution_count": 63,
   "id": "47ff80e0",
   "metadata": {},
   "outputs": [
    {
     "name": "stdout",
     "output_type": "stream",
     "text": [
      "['Ghandi', 'Ghonna Bhai', 'Gone with the Wind', 'Gattaca', 'Ghostbusters']\n"
     ]
    }
   ],
   "source": [
    "movies = [\"Star Wars\", \"Ghandi\", \"Cassabaln\", \"Ghonna Bhai\", \"Tulip is so\", \"Gone with the Wind\", \"Citizen\", \n",
    "         \"Gattaca\", \"Rear window\", \"Ghostbusters\", \"To Kill A Mockingb\", \"A Space odyssey\"]\n",
    "gmovies = []\n",
    "for title in movies:\n",
    "    if title.startswith(\"G\"):\n",
    "        gmovies.append(title)\n",
    "    \n",
    "print(gmovies)\n"
   ]
  },
  {
   "cell_type": "code",
   "execution_count": 2,
   "id": "abcd210c",
   "metadata": {},
   "outputs": [
    {
     "name": "stdout",
     "output_type": "stream",
     "text": [
      "[3, 4, 5]\n"
     ]
    }
   ],
   "source": [
    "b = []\n",
    "b.append(3)\n",
    "b.append(4)\n",
    "b.append(5)\n",
    "print(b)"
   ]
  },
  {
   "cell_type": "code",
   "execution_count": 6,
   "id": "aecfe37b",
   "metadata": {},
   "outputs": [
    {
     "name": "stdout",
     "output_type": "stream",
     "text": [
      "['SEDAN', 'SUV00', 'PICKUP', 'MINIVAN', 'VAN', 'BICYCLE', 'MOTORCYCLE']\n"
     ]
    }
   ],
   "source": [
    "dict={\"Sedan\": 1500, \"SUV00\": 2000, \"Pickup\": 2500, \"Minivan\": 1600, \"Van\": 2400, \n",
    "      \"Semi\": 13600, \"Bicycle\": 7, \"Motorcycle\": 110}\n",
    "comp = [x.upper() for x in dict if dict[x] < 5000]\n",
    "print(comp)\n"
   ]
  },
  {
   "cell_type": "code",
   "execution_count": null,
   "id": "198754b5",
   "metadata": {},
   "outputs": [],
   "source": []
  },
  {
   "cell_type": "code",
   "execution_count": 65,
   "id": "991bf837",
   "metadata": {},
   "outputs": [
    {
     "name": "stdout",
     "output_type": "stream",
     "text": [
      "['Ghandi', 'Ghonna Bhai', 'Gone with the Wind', 'Gattaca', 'Ghostbusters']\n"
     ]
    }
   ],
   "source": [
    "ggmovies = [title for  title in movies if title.startswith(\"G\")]\n",
    "print(ggmovies)"
   ]
  },
  {
   "cell_type": "code",
   "execution_count": 5,
   "id": "d101f513",
   "metadata": {},
   "outputs": [
    {
     "name": "stdout",
     "output_type": "stream",
     "text": [
      "[2, 6, 10, 14, 18]\n"
     ]
    }
   ],
   "source": [
    "c = []\n",
    "for x in a:\n",
    "    c.append(x * 2)\n",
    "print(c)"
   ]
  },
  {
   "cell_type": "code",
   "execution_count": 6,
   "id": "8486c102",
   "metadata": {},
   "outputs": [],
   "source": [
    "d = [x * 2 for x in a]"
   ]
  },
  {
   "cell_type": "code",
   "execution_count": 7,
   "id": "24ee4ac1",
   "metadata": {},
   "outputs": [
    {
     "data": {
      "text/plain": [
       "[2, 6, 10, 14, 18]"
      ]
     },
     "execution_count": 7,
     "metadata": {},
     "output_type": "execute_result"
    }
   ],
   "source": [
    "d"
   ]
  },
  {
   "cell_type": "code",
   "execution_count": 8,
   "id": "8f932107",
   "metadata": {},
   "outputs": [
    {
     "name": "stdout",
     "output_type": "stream",
     "text": [
      "[1, 4, 9, 16, 25, 36]\n"
     ]
    }
   ],
   "source": [
    "el = []\n",
    "for x in range(1, 7):\n",
    "    el.append(x ** 2)\n",
    "print(el)"
   ]
  },
  {
   "cell_type": "code",
   "execution_count": 9,
   "id": "5985f659",
   "metadata": {},
   "outputs": [],
   "source": [
    "e = [x ** 2 for x in range(1, 7)]"
   ]
  },
  {
   "cell_type": "code",
   "execution_count": 10,
   "id": "4c539a2d",
   "metadata": {},
   "outputs": [
    {
     "data": {
      "text/plain": [
       "[1, 4, 9, 16, 25, 36]"
      ]
     },
     "execution_count": 10,
     "metadata": {},
     "output_type": "execute_result"
    }
   ],
   "source": [
    "e"
   ]
  },
  {
   "cell_type": "code",
   "execution_count": 14,
   "id": "f2aa28d2",
   "metadata": {},
   "outputs": [
    {
     "name": "stdout",
     "output_type": "stream",
     "text": [
      "[36, 25, 16, 9, 4, 1]\n"
     ]
    }
   ],
   "source": [
    "ele = [x ** 2 for x in range(6, 0, -1)]\n",
    "print(ele)"
   ]
  },
  {
   "cell_type": "code",
   "execution_count": 16,
   "id": "648bf596",
   "metadata": {},
   "outputs": [
    {
     "name": "stdout",
     "output_type": "stream",
     "text": [
      "6\n",
      "5\n",
      "4\n",
      "3\n",
      "2\n",
      "1\n",
      "[36, 25, 16, 9, 4, 1]\n"
     ]
    }
   ],
   "source": [
    "list = []\n",
    "for x in range(6, 0, -1):\n",
    "    print(x)\n",
    "    list.append(x ** 2)\n",
    "print(list)"
   ]
  },
  {
   "cell_type": "code",
   "execution_count": 17,
   "id": "3ce6b5a0",
   "metadata": {},
   "outputs": [
    {
     "name": "stdout",
     "output_type": "stream",
     "text": [
      "[2, 4, 6]\n"
     ]
    }
   ],
   "source": [
    "nums = [1, 2, 3, 4, 5, 6]\n",
    "even = []\n",
    "for  i in nums:\n",
    "    if  i % 2 == 0:\n",
    "        even.append(i)\n",
    "print(even)"
   ]
  },
  {
   "cell_type": "code",
   "execution_count": 19,
   "id": "8240cfea",
   "metadata": {},
   "outputs": [
    {
     "name": "stdout",
     "output_type": "stream",
     "text": [
      "[2, 4, 6]\n"
     ]
    }
   ],
   "source": [
    "even = [i for i  in nums if i % 2 == 0]\n",
    "print(even)"
   ]
  },
  {
   "cell_type": "code",
   "execution_count": 22,
   "id": "115ea32d",
   "metadata": {},
   "outputs": [
    {
     "name": "stdout",
     "output_type": "stream",
     "text": [
      "[1, 3, 5]\n"
     ]
    }
   ],
   "source": [
    "odd = [i for i in nums if i % 2 != 0]\n",
    "print(odd)"
   ]
  },
  {
   "cell_type": "code",
   "execution_count": 7,
   "id": "02a24435",
   "metadata": {},
   "outputs": [
    {
     "name": "stdout",
     "output_type": "stream",
     "text": [
      "[2, 6, 8, 9]\n"
     ]
    }
   ],
   "source": [
    "original_list = [2,3.75,.04,59.354,6,7.7777,8,9]\n",
    "only_ints = [number for number in original_list if type(number) == int]\n",
    "print(only_ints)"
   ]
  },
  {
   "cell_type": "code",
   "execution_count": 23,
   "id": "44fd79b8",
   "metadata": {},
   "outputs": [
    {
     "name": "stdout",
     "output_type": "stream",
     "text": [
      "[1, 4, 9, 16, 25, 36]\n"
     ]
    }
   ],
   "source": [
    "sqr_num = [x ** 2 for x in nums]\n",
    "print(sqr_num)"
   ]
  },
  {
   "cell_type": "code",
   "execution_count": null,
   "id": "8bd0cb65",
   "metadata": {},
   "outputs": [],
   "source": []
  },
  {
   "cell_type": "code",
   "execution_count": 24,
   "id": "c503e704",
   "metadata": {},
   "outputs": [
    {
     "name": "stdout",
     "output_type": "stream",
     "text": [
      "{1, 2, 3, 4}\n"
     ]
    }
   ],
   "source": [
    "s = set([1, 2, 3, 4, 2, 3])\n",
    "print(s)"
   ]
  },
  {
   "cell_type": "code",
   "execution_count": 26,
   "id": "b8150da3",
   "metadata": {},
   "outputs": [
    {
     "name": "stdout",
     "output_type": "stream",
     "text": [
      "{2, 4, 6}\n"
     ]
    }
   ],
   "source": [
    "even = {i for i in nums if i % 2==0}\n",
    "print(even)"
   ]
  },
  {
   "cell_type": "code",
   "execution_count": 27,
   "id": "b1ce1f3a",
   "metadata": {},
   "outputs": [
    {
     "name": "stdout",
     "output_type": "stream",
     "text": [
      "<zip object at 0x000002C5D32F36C0>\n"
     ]
    }
   ],
   "source": [
    "cities = [\"mumbai\", \"new Yourk\", \"paris\"]\n",
    "countries = [\"India\",\"Usa\", \"France\" ]\n",
    "\n",
    "z = zip(cities, countries)\n",
    "print(z)\n"
   ]
  },
  {
   "cell_type": "code",
   "execution_count": 28,
   "id": "86d13123",
   "metadata": {},
   "outputs": [
    {
     "name": "stdout",
     "output_type": "stream",
     "text": [
      "('mumbai', 'India')\n",
      "('new Yourk', 'Usa')\n",
      "('paris', 'France')\n"
     ]
    }
   ],
   "source": [
    "for i in z:\n",
    "    print(i)"
   ]
  },
  {
   "cell_type": "code",
   "execution_count": 31,
   "id": "7cc6b178",
   "metadata": {},
   "outputs": [
    {
     "name": "stdout",
     "output_type": "stream",
     "text": [
      "{'mumbai': 'India', 'new Yourk': 'Usa', 'paris': 'France'}\n"
     ]
    }
   ],
   "source": [
    "dict = {city:country for city,  country in zip(cities, countries)}\n",
    "print(dict)"
   ]
  },
  {
   "cell_type": "code",
   "execution_count": 1,
   "id": "b270664e",
   "metadata": {},
   "outputs": [
    {
     "name": "stdout",
     "output_type": "stream",
     "text": [
      "[2, 4, 6, 8]\n"
     ]
    }
   ],
   "source": [
    "nums = [1, 2, 3, 4, 5, 6, 7, 8]\n",
    "print([x for x in nums if x % 2 == 0])"
   ]
  },
  {
   "cell_type": "code",
   "execution_count": 5,
   "id": "6a52de43",
   "metadata": {},
   "outputs": [
    {
     "name": "stdout",
     "output_type": "stream",
     "text": [
      "[('a', 0), ('a', 1), ('a', 2), ('a', 3), ('b', 0), ('b', 1), ('b', 2), ('b', 3), ('c', 0), ('c', 1), ('c', 2), ('c', 3), ('d', 0), ('d', 1), ('d', 2), ('d', 3)]\n"
     ]
    }
   ],
   "source": [
    "\n",
    "char_list = []\n",
    "for letter in 'abcd':\n",
    "    for number in range(4):\n",
    "        char_list.append((letter, number))\n",
    "print(char_list)"
   ]
  },
  {
   "cell_type": "code",
   "execution_count": 7,
   "id": "5d810abe",
   "metadata": {},
   "outputs": [
    {
     "name": "stdout",
     "output_type": "stream",
     "text": [
      "[('a', 0), ('a', 1), ('a', 2), ('a', 3), ('b', 0), ('b', 1), ('b', 2), ('b', 3), ('c', 0), ('c', 1), ('c', 2), ('c', 3), ('d', 0), ('d', 1), ('d', 2), ('d', 3)]\n"
     ]
    }
   ],
   "source": [
    "new_list = [(letter, number) for letter in \"abcd\" for number in range(4)]\n",
    "print(new_list)"
   ]
  },
  {
   "cell_type": "code",
   "execution_count": 19,
   "id": "fed5b4d0",
   "metadata": {},
   "outputs": [
    {
     "name": "stdout",
     "output_type": "stream",
     "text": [
      "{'Batman': 'Brucce', 'Spidarman': 'Peter', 'Wolverine': 'Logan', 'Deadpool': 'Wade'}\n"
     ]
    }
   ],
   "source": [
    "names = ['Brucce', 'Clack', 'Peter', 'Logan', 'Wade']\n",
    "heros = [\"Batman\", \"Superman\",\"Spidarman\", \"Wolverine\",\"Deadpool\"]\n",
    "\n",
    "my_dict = {hero: name for hero, name in zip (heros, names) if name != 'Clack'}\n",
    "print(my_dict)\n",
    "# my_dict = {}\n",
    "# for name, hero in zip(names, heros):\n",
    "#     my_dict[name] = hero\n",
    "# print(my_dict)\n"
   ]
  },
  {
   "cell_type": "code",
   "execution_count": 18,
   "id": "3a270861",
   "metadata": {},
   "outputs": [
    {
     "name": "stdout",
     "output_type": "stream",
     "text": [
      "{'Brucce': 'Batman', 'Clack': 'Superman', 'Logan': 'Wolverine', 'Wade': 'Deadpool'}\n"
     ]
    }
   ],
   "source": [
    "my_dict = {name: hero for name, hero in zip (names, heros) if name != 'Peter'}\n",
    "print(my_dict)"
   ]
  },
  {
   "cell_type": "code",
   "execution_count": null,
   "id": "49657dbf",
   "metadata": {},
   "outputs": [],
   "source": [
    "dict = {key: ke}"
   ]
  },
  {
   "cell_type": "code",
   "execution_count": null,
   "id": "0eb079f9",
   "metadata": {},
   "outputs": [],
   "source": []
  },
  {
   "cell_type": "code",
   "execution_count": 22,
   "id": "849959bf",
   "metadata": {},
   "outputs": [
    {
     "name": "stdout",
     "output_type": "stream",
     "text": [
      "{1: 1, 2: 4, 3: 9, 4: 16, 5: 25, 6: 36, 7: 49, 8: 64, 9: 81, 10: 100}\n"
     ]
    }
   ],
   "source": [
    "square = {1:1, 2:4, 3:9}\n",
    "square = {num: num ** 2 for num in range(1, 11)}\n",
    "print(square)"
   ]
  },
  {
   "cell_type": "code",
   "execution_count": 33,
   "id": "3a815cc2",
   "metadata": {},
   "outputs": [
    {
     "name": "stdout",
     "output_type": "stream",
     "text": [
      "{7: 49, 6: 36, 5: 25, 4: 16, 3: 9, 2: 4, 1: 1}\n"
     ]
    }
   ],
   "source": [
    "double = {num: num **2 for num in range(7, 0, -1)}\n",
    "print(double)\n",
    " "
   ]
  },
  {
   "cell_type": "code",
   "execution_count": 37,
   "id": "18739767",
   "metadata": {},
   "outputs": [
    {
     "name": "stdout",
     "output_type": "stream",
     "text": [
      "Square of 1 is : 1 \n",
      "Square of 2 is : 4 \n",
      "Square of 3 is : 9 \n",
      "Square of 4 is : 16 \n",
      "Square of 5 is : 25 \n",
      "Square of 6 is : 36 \n",
      "Square of 7 is : 49 \n",
      "Square of 8 is : 64 \n",
      "Square of 9 is : 81 \n",
      "Square of 10 is : 100 \n"
     ]
    }
   ],
   "source": [
    "square = {f'Square of {num} is': num **2 for num in range(1, 11)}\n",
    "for k,v in square.items():\n",
    "    print(f\"{k} : {v} \")"
   ]
  },
  {
   "cell_type": "code",
   "execution_count": 39,
   "id": "08e3b4ce",
   "metadata": {},
   "outputs": [
    {
     "name": "stdout",
     "output_type": "stream",
     "text": [
      "{'A': 1, 'n': 1, 'i': 2, 's': 2, 'u': 1, 'l': 2, ' ': 1, 'a': 1, 'm': 1}\n"
     ]
    }
   ],
   "source": [
    "string = \"Anisul islam\"\n",
    "word_count = {char: string.count(char) for char in string}\n",
    "print(word_count)"
   ]
  },
  {
   "cell_type": "code",
   "execution_count": 54,
   "id": "4b6502e9",
   "metadata": {},
   "outputs": [
    {
     "name": "stdout",
     "output_type": "stream",
     "text": [
      "['t', 'h', 'e', 'b', 'r', 'o', 'w', 'n', 'f', 'o', 'x', 'j', 'u', 'm', 'p', 'o', 'v', 'e', 'r', 't', 'h', 'e', 'l', 'a', 'z', 'y', 'd', 'o', 'g', 'f', 'o', 'r', 't', 'h', 'e', 'n', 'u', 'm', 'b', 'e', 'r', 'o', 'f', 't', 'h', 'e', 'n', 'a', 't', 'u', 'r', 'a', 'l', 'o', 'f', 't', 'h', 'e', 'l', 'a', 'n', 'g', 'u', 'g', 'e', 'i', 's', 's', 'o', 'm', 'u', 'c', 'h']\n"
     ]
    }
   ],
   "source": [
    "junk_string = 'thebrownfoxjumpoverthelazydogforthenumberofthenaturalofthelangugeissomuch'\n",
    "letter_list = [letter for letter in junk_string]\n",
    "print(letter_list)"
   ]
  },
  {
   "cell_type": "code",
   "execution_count": 55,
   "id": "350193d3",
   "metadata": {},
   "outputs": [
    {
     "name": "stdout",
     "output_type": "stream",
     "text": [
      "{'t': 6, 'h': 6, 'e': 8, 'b': 2, 'r': 5, 'o': 8, 'w': 1, 'n': 4, 'f': 4, 'x': 1, 'j': 1, 'u': 5, 'm': 3, 'p': 1, 'v': 1, 'l': 3, 'a': 4, 'z': 1, 'y': 1, 'd': 1, 'g': 3, 'i': 1, 's': 2, 'c': 1}\n"
     ]
    }
   ],
   "source": [
    "letter_dictonary = {key: letter_list.count(key) for key in letter_list}\n",
    "print(letter_dictonary)"
   ]
  },
  {
   "cell_type": "code",
   "execution_count": 57,
   "id": "2fe054fc",
   "metadata": {},
   "outputs": [
    {
     "ename": "ValueError",
     "evalue": "shape mismatch: objects cannot be broadcast to a single shape",
     "output_type": "error",
     "traceback": [
      "\u001b[1;31m---------------------------------------------------------------------------\u001b[0m",
      "\u001b[1;31mValueError\u001b[0m                                Traceback (most recent call last)",
      "\u001b[1;32mC:\\Users\\MDANIS~1\\AppData\\Local\\Temp/ipykernel_10196/273447342.py\u001b[0m in \u001b[0;36m<module>\u001b[1;34m\u001b[0m\n\u001b[0;32m      6\u001b[0m \u001b[1;33m\u001b[0m\u001b[0m\n\u001b[0;32m      7\u001b[0m \u001b[0mx\u001b[0m \u001b[1;33m=\u001b[0m \u001b[0mrange\u001b[0m\u001b[1;33m(\u001b[0m\u001b[1;36m1\u001b[0m\u001b[1;33m,\u001b[0m \u001b[1;36m31\u001b[0m\u001b[1;33m)\u001b[0m\u001b[1;33m\u001b[0m\u001b[1;33m\u001b[0m\u001b[0m\n\u001b[1;32m----> 8\u001b[1;33m \u001b[0mplt\u001b[0m\u001b[1;33m.\u001b[0m\u001b[0mbar\u001b[0m\u001b[1;33m(\u001b[0m\u001b[0mx\u001b[0m\u001b[1;33m,\u001b[0m\u001b[1;33m(\u001b[0m\u001b[0mvalues\u001b[0m\u001b[1;33m)\u001b[0m\u001b[1;33m)\u001b[0m\u001b[1;33m\u001b[0m\u001b[1;33m\u001b[0m\u001b[0m\n\u001b[0m\u001b[0;32m      9\u001b[0m \u001b[0mplt\u001b[0m\u001b[1;33m.\u001b[0m\u001b[0mxticks\u001b[0m\u001b[1;33m(\u001b[0m\u001b[0mx\u001b[0m\u001b[1;33m,\u001b[0m \u001b[1;33m(\u001b[0m\u001b[0mkeys\u001b[0m\u001b[1;33m)\u001b[0m\u001b[1;33m)\u001b[0m\u001b[1;33m\u001b[0m\u001b[1;33m\u001b[0m\u001b[0m\n\u001b[0;32m     10\u001b[0m \u001b[0mplt\u001b[0m\u001b[1;33m.\u001b[0m\u001b[0mxlabel\u001b[0m\u001b[1;33m(\u001b[0m\u001b[1;34m'Characters'\u001b[0m\u001b[1;33m)\u001b[0m\u001b[1;33m\u001b[0m\u001b[1;33m\u001b[0m\u001b[0m\n",
      "\u001b[1;32m~\\anaconda3\\lib\\site-packages\\matplotlib\\pyplot.py\u001b[0m in \u001b[0;36mbar\u001b[1;34m(x, height, width, bottom, align, data, **kwargs)\u001b[0m\n\u001b[0;32m   2649\u001b[0m         \u001b[0mx\u001b[0m\u001b[1;33m,\u001b[0m \u001b[0mheight\u001b[0m\u001b[1;33m,\u001b[0m \u001b[0mwidth\u001b[0m\u001b[1;33m=\u001b[0m\u001b[1;36m0.8\u001b[0m\u001b[1;33m,\u001b[0m \u001b[0mbottom\u001b[0m\u001b[1;33m=\u001b[0m\u001b[1;32mNone\u001b[0m\u001b[1;33m,\u001b[0m \u001b[1;33m*\u001b[0m\u001b[1;33m,\u001b[0m \u001b[0malign\u001b[0m\u001b[1;33m=\u001b[0m\u001b[1;34m'center'\u001b[0m\u001b[1;33m,\u001b[0m\u001b[1;33m\u001b[0m\u001b[1;33m\u001b[0m\u001b[0m\n\u001b[0;32m   2650\u001b[0m         data=None, **kwargs):\n\u001b[1;32m-> 2651\u001b[1;33m     return gca().bar(\n\u001b[0m\u001b[0;32m   2652\u001b[0m         \u001b[0mx\u001b[0m\u001b[1;33m,\u001b[0m \u001b[0mheight\u001b[0m\u001b[1;33m,\u001b[0m \u001b[0mwidth\u001b[0m\u001b[1;33m=\u001b[0m\u001b[0mwidth\u001b[0m\u001b[1;33m,\u001b[0m \u001b[0mbottom\u001b[0m\u001b[1;33m=\u001b[0m\u001b[0mbottom\u001b[0m\u001b[1;33m,\u001b[0m \u001b[0malign\u001b[0m\u001b[1;33m=\u001b[0m\u001b[0malign\u001b[0m\u001b[1;33m,\u001b[0m\u001b[1;33m\u001b[0m\u001b[1;33m\u001b[0m\u001b[0m\n\u001b[0;32m   2653\u001b[0m         **({\"data\": data} if data is not None else {}), **kwargs)\n",
      "\u001b[1;32m~\\anaconda3\\lib\\site-packages\\matplotlib\\__init__.py\u001b[0m in \u001b[0;36minner\u001b[1;34m(ax, data, *args, **kwargs)\u001b[0m\n\u001b[0;32m   1359\u001b[0m     \u001b[1;32mdef\u001b[0m \u001b[0minner\u001b[0m\u001b[1;33m(\u001b[0m\u001b[0max\u001b[0m\u001b[1;33m,\u001b[0m \u001b[1;33m*\u001b[0m\u001b[0margs\u001b[0m\u001b[1;33m,\u001b[0m \u001b[0mdata\u001b[0m\u001b[1;33m=\u001b[0m\u001b[1;32mNone\u001b[0m\u001b[1;33m,\u001b[0m \u001b[1;33m**\u001b[0m\u001b[0mkwargs\u001b[0m\u001b[1;33m)\u001b[0m\u001b[1;33m:\u001b[0m\u001b[1;33m\u001b[0m\u001b[1;33m\u001b[0m\u001b[0m\n\u001b[0;32m   1360\u001b[0m         \u001b[1;32mif\u001b[0m \u001b[0mdata\u001b[0m \u001b[1;32mis\u001b[0m \u001b[1;32mNone\u001b[0m\u001b[1;33m:\u001b[0m\u001b[1;33m\u001b[0m\u001b[1;33m\u001b[0m\u001b[0m\n\u001b[1;32m-> 1361\u001b[1;33m             \u001b[1;32mreturn\u001b[0m \u001b[0mfunc\u001b[0m\u001b[1;33m(\u001b[0m\u001b[0max\u001b[0m\u001b[1;33m,\u001b[0m \u001b[1;33m*\u001b[0m\u001b[0mmap\u001b[0m\u001b[1;33m(\u001b[0m\u001b[0msanitize_sequence\u001b[0m\u001b[1;33m,\u001b[0m \u001b[0margs\u001b[0m\u001b[1;33m)\u001b[0m\u001b[1;33m,\u001b[0m \u001b[1;33m**\u001b[0m\u001b[0mkwargs\u001b[0m\u001b[1;33m)\u001b[0m\u001b[1;33m\u001b[0m\u001b[1;33m\u001b[0m\u001b[0m\n\u001b[0m\u001b[0;32m   1362\u001b[0m \u001b[1;33m\u001b[0m\u001b[0m\n\u001b[0;32m   1363\u001b[0m         \u001b[0mbound\u001b[0m \u001b[1;33m=\u001b[0m \u001b[0mnew_sig\u001b[0m\u001b[1;33m.\u001b[0m\u001b[0mbind\u001b[0m\u001b[1;33m(\u001b[0m\u001b[0max\u001b[0m\u001b[1;33m,\u001b[0m \u001b[1;33m*\u001b[0m\u001b[0margs\u001b[0m\u001b[1;33m,\u001b[0m \u001b[1;33m**\u001b[0m\u001b[0mkwargs\u001b[0m\u001b[1;33m)\u001b[0m\u001b[1;33m\u001b[0m\u001b[1;33m\u001b[0m\u001b[0m\n",
      "\u001b[1;32m~\\anaconda3\\lib\\site-packages\\matplotlib\\axes\\_axes.py\u001b[0m in \u001b[0;36mbar\u001b[1;34m(self, x, height, width, bottom, align, **kwargs)\u001b[0m\n\u001b[0;32m   2302\u001b[0m                 \u001b[0myerr\u001b[0m \u001b[1;33m=\u001b[0m \u001b[0mself\u001b[0m\u001b[1;33m.\u001b[0m\u001b[0m_convert_dx\u001b[0m\u001b[1;33m(\u001b[0m\u001b[0myerr\u001b[0m\u001b[1;33m,\u001b[0m \u001b[0my0\u001b[0m\u001b[1;33m,\u001b[0m \u001b[0my\u001b[0m\u001b[1;33m,\u001b[0m \u001b[0mself\u001b[0m\u001b[1;33m.\u001b[0m\u001b[0mconvert_yunits\u001b[0m\u001b[1;33m)\u001b[0m\u001b[1;33m\u001b[0m\u001b[1;33m\u001b[0m\u001b[0m\n\u001b[0;32m   2303\u001b[0m \u001b[1;33m\u001b[0m\u001b[0m\n\u001b[1;32m-> 2304\u001b[1;33m         x, height, width, y, linewidth, hatch = np.broadcast_arrays(\n\u001b[0m\u001b[0;32m   2305\u001b[0m             \u001b[1;31m# Make args iterable too.\u001b[0m\u001b[1;33m\u001b[0m\u001b[1;33m\u001b[0m\u001b[0m\n\u001b[0;32m   2306\u001b[0m             np.atleast_1d(x), height, width, y, linewidth, hatch)\n",
      "\u001b[1;32m<__array_function__ internals>\u001b[0m in \u001b[0;36mbroadcast_arrays\u001b[1;34m(*args, **kwargs)\u001b[0m\n",
      "\u001b[1;32m~\\anaconda3\\lib\\site-packages\\numpy\\lib\\stride_tricks.py\u001b[0m in \u001b[0;36mbroadcast_arrays\u001b[1;34m(subok, *args)\u001b[0m\n\u001b[0;32m    536\u001b[0m     \u001b[0margs\u001b[0m \u001b[1;33m=\u001b[0m \u001b[1;33m[\u001b[0m\u001b[0mnp\u001b[0m\u001b[1;33m.\u001b[0m\u001b[0marray\u001b[0m\u001b[1;33m(\u001b[0m\u001b[0m_m\u001b[0m\u001b[1;33m,\u001b[0m \u001b[0mcopy\u001b[0m\u001b[1;33m=\u001b[0m\u001b[1;32mFalse\u001b[0m\u001b[1;33m,\u001b[0m \u001b[0msubok\u001b[0m\u001b[1;33m=\u001b[0m\u001b[0msubok\u001b[0m\u001b[1;33m)\u001b[0m \u001b[1;32mfor\u001b[0m \u001b[0m_m\u001b[0m \u001b[1;32min\u001b[0m \u001b[0margs\u001b[0m\u001b[1;33m]\u001b[0m\u001b[1;33m\u001b[0m\u001b[1;33m\u001b[0m\u001b[0m\n\u001b[0;32m    537\u001b[0m \u001b[1;33m\u001b[0m\u001b[0m\n\u001b[1;32m--> 538\u001b[1;33m     \u001b[0mshape\u001b[0m \u001b[1;33m=\u001b[0m \u001b[0m_broadcast_shape\u001b[0m\u001b[1;33m(\u001b[0m\u001b[1;33m*\u001b[0m\u001b[0margs\u001b[0m\u001b[1;33m)\u001b[0m\u001b[1;33m\u001b[0m\u001b[1;33m\u001b[0m\u001b[0m\n\u001b[0m\u001b[0;32m    539\u001b[0m \u001b[1;33m\u001b[0m\u001b[0m\n\u001b[0;32m    540\u001b[0m     \u001b[1;32mif\u001b[0m \u001b[0mall\u001b[0m\u001b[1;33m(\u001b[0m\u001b[0marray\u001b[0m\u001b[1;33m.\u001b[0m\u001b[0mshape\u001b[0m \u001b[1;33m==\u001b[0m \u001b[0mshape\u001b[0m \u001b[1;32mfor\u001b[0m \u001b[0marray\u001b[0m \u001b[1;32min\u001b[0m \u001b[0margs\u001b[0m\u001b[1;33m)\u001b[0m\u001b[1;33m:\u001b[0m\u001b[1;33m\u001b[0m\u001b[1;33m\u001b[0m\u001b[0m\n",
      "\u001b[1;32m~\\anaconda3\\lib\\site-packages\\numpy\\lib\\stride_tricks.py\u001b[0m in \u001b[0;36m_broadcast_shape\u001b[1;34m(*args)\u001b[0m\n\u001b[0;32m    418\u001b[0m     \u001b[1;31m# use the old-iterator because np.nditer does not handle size 0 arrays\u001b[0m\u001b[1;33m\u001b[0m\u001b[1;33m\u001b[0m\u001b[0m\n\u001b[0;32m    419\u001b[0m     \u001b[1;31m# consistently\u001b[0m\u001b[1;33m\u001b[0m\u001b[1;33m\u001b[0m\u001b[0m\n\u001b[1;32m--> 420\u001b[1;33m     \u001b[0mb\u001b[0m \u001b[1;33m=\u001b[0m \u001b[0mnp\u001b[0m\u001b[1;33m.\u001b[0m\u001b[0mbroadcast\u001b[0m\u001b[1;33m(\u001b[0m\u001b[1;33m*\u001b[0m\u001b[0margs\u001b[0m\u001b[1;33m[\u001b[0m\u001b[1;33m:\u001b[0m\u001b[1;36m32\u001b[0m\u001b[1;33m]\u001b[0m\u001b[1;33m)\u001b[0m\u001b[1;33m\u001b[0m\u001b[1;33m\u001b[0m\u001b[0m\n\u001b[0m\u001b[0;32m    421\u001b[0m     \u001b[1;31m# unfortunately, it cannot handle 32 or more arguments directly\u001b[0m\u001b[1;33m\u001b[0m\u001b[1;33m\u001b[0m\u001b[0m\n\u001b[0;32m    422\u001b[0m     \u001b[1;32mfor\u001b[0m \u001b[0mpos\u001b[0m \u001b[1;32min\u001b[0m \u001b[0mrange\u001b[0m\u001b[1;33m(\u001b[0m\u001b[1;36m32\u001b[0m\u001b[1;33m,\u001b[0m \u001b[0mlen\u001b[0m\u001b[1;33m(\u001b[0m\u001b[0margs\u001b[0m\u001b[1;33m)\u001b[0m\u001b[1;33m,\u001b[0m \u001b[1;36m31\u001b[0m\u001b[1;33m)\u001b[0m\u001b[1;33m:\u001b[0m\u001b[1;33m\u001b[0m\u001b[1;33m\u001b[0m\u001b[0m\n",
      "\u001b[1;31mValueError\u001b[0m: shape mismatch: objects cannot be broadcast to a single shape"
     ]
    },
    {
     "data": {
      "image/png": "[encoded data removed]",
      "text/plain": [
       "<Figure size 432x288 with 1 Axes>"
      ]
     },
     "metadata": {
      "needs_background": "light"
     },
     "output_type": "display_data"
    }
   ],
   "source": [
    "import matplotlib.pylab as plt\n",
    "%matplotlib inline\n",
    "\n",
    "keys = letter_dictonary.keys()\n",
    "values = letter_dictonary.values()\n",
    "\n",
    "x = range(1, 31)\n",
    "plt.bar(x,(values))\n",
    "plt.xticks(x, (keys))\n",
    "plt.xlabel('Characters')\n",
    "plt.ylabel('Count')\n",
    "plt.show()  "
   ]
  },
  {
   "cell_type": "markdown",
   "id": "2d371328",
   "metadata": {},
   "source": [
    "#  list comprehension"
   ]
  },
  {
   "cell_type": "code",
   "execution_count": 8,
   "id": "3b6699c2",
   "metadata": {},
   "outputs": [
    {
     "name": "stdout",
     "output_type": "stream",
     "text": [
      "[7, 14, 21, 28, 35, 42, 49, 56, 63, 70, 77, 84, 91, 98, 105, 112, 119, 126, 133, 140, 147, 154, 161, 168, 175, 182, 189, 196, 203, 210, 217, 224, 231, 238, 245, 252, 259, 266, 273, 280, 287, 294, 301, 308, 315, 322, 329, 336, 343, 350, 357, 364, 371, 378, 385, 392, 399, 406, 413, 420, 427, 434, 441, 448, 455, 462, 469, 476, 483, 490, 497, 504, 511, 518, 525, 532, 539, 546, 553, 560, 567, 574, 581, 588, 595, 602, 609, 616, 623, 630, 637, 644, 651, 658, 665, 672, 679, 686, 693, 700, 707, 714, 721, 728, 735, 742, 749, 756, 763, 770, 777, 784, 791, 798, 805, 812, 819, 826, 833, 840, 847, 854, 861, 868, 875, 882, 889, 896, 903, 910, 917, 924, 931, 938, 945, 952, 959, 966, 973, 980, 987, 994]\n"
     ]
    }
   ],
   "source": [
    "'''\n",
    "Find all of the numbers from 1-1000 that are divisible by 7\n",
    "'''\n",
    "div7 = [n for n in range(1,1000) if n % 7 == 0] \n",
    "print(div7)"
   ]
  },
  {
   "cell_type": "code",
   "execution_count": 12,
   "id": "f3677c1c",
   "metadata": {},
   "outputs": [
    {
     "name": "stdout",
     "output_type": "stream",
     "text": [
      "9\n"
     ]
    }
   ],
   "source": [
    "'''\n",
    "Count the number of spaces in a string\n",
    "'''\n",
    "some_string = 'the slow solid squid swam sumptuously through the slimy swamp'\n",
    "spaces = [s for s in some_string if s == ' ']\n",
    "print(len(spaces))"
   ]
  },
  {
   "cell_type": "code",
   "execution_count": 14,
   "id": "5c7e2ffa",
   "metadata": {},
   "outputs": [
    {
     "name": "stdout",
     "output_type": "stream",
     "text": [
      "9\n"
     ]
    }
   ],
   "source": [
    "some_string = 'the slow solid squid swam sumptuously through the slimy swamp'\n",
    "spaces = [s for s in some_string if s == ' '\n",
    "print(len(spaces))"
   ]
  },
  {
   "cell_type": "code",
   "execution_count": 47,
   "id": "9b76c609",
   "metadata": {},
   "outputs": [
    {
     "name": "stdout",
     "output_type": "stream",
     "text": [
      "9\n"
     ]
    }
   ],
   "source": [
    "'''\n",
    "Count the number of spaces in a string\n",
    "'''\n",
    "some_string = 'the slow solid squid swam sumptuously through the slimy swamp'\n",
    "spaces = [s for s in some_string if s == ' ']\n",
    "print(len(spaces))"
   ]
  },
  {
   "cell_type": "code",
   "execution_count": 36,
   "id": "95832f79",
   "metadata": {},
   "outputs": [
    {
     "name": "stdout",
     "output_type": "stream",
     "text": [
      "['Iron Man', 'Thor', 'Hawkeye']\n"
     ]
    }
   ],
   "source": [
    "avengers = [\"Iron Man\", \"Captain America\", \"Thor\", \"The Incredible Hulk\", \"Bla avengers ck Widow\", \"Hawkeye\"]\n",
    "answ = [ avenger for avenger in avengers if len(avenger)<= 8]\n",
    "print(answ)"
   ]
  },
  {
   "cell_type": "code",
   "execution_count": 46,
   "id": "8701d58d",
   "metadata": {},
   "outputs": [],
   "source": [
    "'''\n",
    "Create a list of all the consonants in the string \"Yellow Yaks like yelling and yawning and yesturday they yodled while eating yuky yams\"\n",
    "'''\n",
    "sentence = \"Yellow Yaks like yelling and yawning and yesturday they yodled while eating yuky yams\"\n",
    "\n",
    "result = [letter for letter in sentence if letter not in 'a,e,i,o,u, \" \"']"
   ]
  },
  {
   "cell_type": "code",
   "execution_count": 38,
   "id": "f2c55858",
   "metadata": {},
   "outputs": [
    {
     "name": "stdout",
     "output_type": "stream",
     "text": [
      "[110, 120, 130, 140]\n"
     ]
    }
   ],
   "source": [
    "result = [number for number in  range(50, 150, 10) if number % 2 == 0 and number > 100]\n",
    "print(result)"
   ]
  },
  {
   "cell_type": "code",
   "execution_count": 41,
   "id": "fd53b6b2",
   "metadata": {},
   "outputs": [
    {
     "name": "stdout",
     "output_type": "stream",
     "text": [
      "['thi', 'is', 'an', 'exa']\n"
     ]
    }
   ],
   "source": [
    "wordList = [\"this\", \"is\", \"an\", \"example\"]\n",
    "res = [word[0:3] for word in wordList]\n",
    "print(res)"
   ]
  },
  {
   "cell_type": "code",
   "execution_count": 42,
   "id": "801d838a",
   "metadata": {},
   "outputs": [
    {
     "data": {
      "text/plain": [
       "['h', 'a', 'p', 'p', 'y', 'b', 'i', 'r', 't', 'h', 'd', 'a', 'y']"
      ]
     },
     "execution_count": 42,
     "metadata": {},
     "output_type": "execute_result"
    }
   ],
   "source": [
    "msg = \"happy birthday!\"\n",
    "[m for m in msg if m!=\" \" and m!=\"!\"]"
   ]
  },
  {
   "cell_type": "code",
   "execution_count": 44,
   "id": "bc7f6c6e",
   "metadata": {},
   "outputs": [
    {
     "name": "stdout",
     "output_type": "stream",
     "text": [
      "['H', 'e', 'l', 'l', 'o', 'w', 'o', 'r', 'l', 'd']\n"
     ]
    }
   ],
   "source": [
    "massege = \"Hello world\"\n",
    "print([m for m in massege  if m != \" \" and m != \"!\"])\n"
   ]
  },
  {
   "cell_type": "code",
   "execution_count": 45,
   "id": "83041e51",
   "metadata": {},
   "outputs": [
    {
     "name": "stdout",
     "output_type": "stream",
     "text": [
      "['h', 'e', 'l', 'l', 'o', 'w', 'o', 'r', 'l', 'd']\n"
     ]
    }
   ],
   "source": [
    "print([m for m in \"hello world\" if m != \" \" and m != \"!\"])"
   ]
  },
  {
   "cell_type": "code",
   "execution_count": 21,
   "id": "885b325e",
   "metadata": {},
   "outputs": [
    {
     "name": "stdout",
     "output_type": "stream",
     "text": [
      "[(0, 'hi'), (1, 4), (2, 8.99), (3, 'apple'), (4, ('t,b', 'n'))]\n"
     ]
    }
   ],
   "source": [
    "'''\n",
    " Get the index and the value as a tuple for items in the list [\"hi\", 4, 8.99, 'apple', ('t,b','n')].  Result would look like [(index, value), (index, value)]\n",
    " '''\n",
    "items = [\"hi\", 4, 8.99, 'apple', ('t,b','n')]\n",
    "result = [(index, item) for index, item in enumerate(items)]\n",
    "print(result)"
   ]
  },
  {
   "cell_type": "code",
   "execution_count": 27,
   "id": "496f197f",
   "metadata": {},
   "outputs": [
    {
     "name": "stdout",
     "output_type": "stream",
     "text": [
      "[(0, 'Hi'), (1, 4), (2, 8.99), (3, 'apple'), (4, ('t', 'b', '%notebook'))]\n"
     ]
    }
   ],
   "source": [
    "items = [\"Hi\", 4, 8.99 ,'apple', ('t','b','%notebook')]\n",
    "result = [(index, item) for index, item in enumerate(items)]\n",
    "print(result)"
   ]
  },
  {
   "cell_type": "code",
   "execution_count": 28,
   "id": "0a4c9db8",
   "metadata": {},
   "outputs": [
    {
     "name": "stdout",
     "output_type": "stream",
     "text": [
      "[2, 3, 4]\n"
     ]
    }
   ],
   "source": [
    "'''\n",
    "Find the common numbers in two lists (without using a tuple or set) list_a = [1, 2, 3, 4], list_b = [2, 3, 4, 5]\n",
    "'''\n",
    "list_a = [1, 2, 3, 4]\n",
    "list_b = [2, 3, 4, 5]\n",
    "common = [a for a in list_a if a in list_b]\n",
    "print(common)"
   ]
  },
  {
   "cell_type": "code",
   "execution_count": 29,
   "id": "43eb4cf2",
   "metadata": {},
   "outputs": [
    {
     "name": "stdout",
     "output_type": "stream",
     "text": [
      "['summer', 'somner', 'smith', 'went', 'simming', 'skin', 'stung']\n"
     ]
    }
   ],
   "source": [
    "'''Find all of the words in a string that are less than 4 letters'''\n",
    "sentence = 'On a summer day somner smith went simming in the sun and his red skin stung'\n",
    "\n",
    "examine = sentence.split()\n",
    "\n",
    "result = [word for word in examine if len(word) >=4]\n",
    "print(result)"
   ]
  },
  {
   "cell_type": "code",
   "execution_count": null,
   "id": "a884f511",
   "metadata": {},
   "outputs": [],
   "source": [
    "'''\n",
    "Produce a list of tuples consisting of only the matching numbers in these lists list_a = [1, 2, 3,4,5,6,7,8,9], list_b = [2, 7, 1, 12].  Result would look like (4,4), (12,12)\n",
    "'''\n",
    "list_a = [1, 2, 3,4,5,6,7,8,9]\n",
    "list_b = [2, 7, 1, 12]\n",
    "\n",
    "result = [(a, b) for a in list_a for b in list_b if a == b]\n",
    "print(result)"
   ]
  },
  {
   "cell_type": "code",
   "execution_count": 30,
   "id": "39bfedb5",
   "metadata": {},
   "outputs": [
    {
     "name": "stdout",
     "output_type": "stream",
     "text": [
      "['even', 'odd', 'even', 'odd', 'even', 'odd', 'even', 'odd', 'even', 'odd', 'even', 'odd', 'even', 'odd', 'even', 'odd', 'even', 'odd', 'even', 'odd']\n"
     ]
    },
    {
     "data": {
      "text/plain": [
       "'\\nList comprehension\\n[expression for item in list]\\nexpression = \"\\'even\\' if n %2 == 0 else \\'odd\\'\"\\nfor item in list = \"for n in range(20)\"\\n'"
      ]
     },
     "execution_count": 30,
     "metadata": {},
     "output_type": "execute_result"
    }
   ],
   "source": [
    "'''\n",
    "Given numbers = range(20), produce a list containing the word 'even' if a number in the numbers is even, and the word 'odd' if the number is odd.  Result would look like ['odd','odd', 'even']\n",
    "'''\n",
    "\n",
    "result = ['even' if n%2 == 0 else 'odd' for n in range(20)]\n",
    "print(result)\n",
    "\n",
    "'''\n",
    "Let's see the for loop and break out the syntax of the list comprehension\n",
    "'''\n",
    "result = []\n",
    "for n in range(20):\n",
    "  if n % 2 == 0:\n",
    "    result.append('even')\n",
    "  else:\n",
    "    result.append('odd')\n",
    "\n",
    "'''\n",
    "List comprehension\n",
    "[expression for item in list]\n",
    "expression = \"'even' if n %2 == 0 else 'odd'\"\n",
    "for item in list = \"for n in range(20)\"\n",
    "'''"
   ]
  },
  {
   "cell_type": "code",
   "execution_count": 11,
   "id": "5c615db0",
   "metadata": {},
   "outputs": [
    {
     "name": "stdout",
     "output_type": "stream",
     "text": [
      "['1984', '13', '1000']\n"
     ]
    }
   ],
   "source": [
    "'''\n",
    "Get only the numbers in a sentence like 'In 1984 there were 13 instances of a protest with over 1000 people attending'.  Result is a list of numbers like [3,4,5]\n",
    "'''\n",
    "sentence = 'In 1984 there were 13 instances of a protest with over 1000 people attending'\n",
    "words = sentence.split()\n",
    "result = [number for number in words if not number.isalpha() ]\n",
    "print(result)"
   ]
  },
  {
   "cell_type": "code",
   "execution_count": 50,
   "id": "af8d645f",
   "metadata": {},
   "outputs": [
    {
     "name": "stdout",
     "output_type": "stream",
     "text": [
      "['1072', '13', '1000']\n"
     ]
    }
   ],
   "source": [
    "print([number for number in 'In 1072 there were  13 instances of a protest 1000 over'.split()  if not number.isalpha()])"
   ]
  },
  {
   "cell_type": "code",
   "execution_count": 10,
   "id": "4b241fcc",
   "metadata": {},
   "outputs": [
    {
     "name": "stdout",
     "output_type": "stream",
     "text": [
      "[(0, 'hi'), (1, 4), (2, 8.99), (3, 'apple'), (4, ('t,b', 'n'))]\n"
     ]
    }
   ],
   "source": [
    "'''\n",
    " Get the index and the value as a tuple for items in the list [\"hi\", 4, 8.99, 'apple', ('t,b','n')].  Result would look like [(index, value), (index, value)]\n",
    " '''\n",
    "items = [\"hi\", 4, 8.99, 'apple', ('t,b','n')]\n",
    "result = [(index, item) for index, item in enumerate(items)]\n",
    "print(result)"
   ]
  },
  {
   "cell_type": "code",
   "execution_count": 31,
   "id": "f47265ff",
   "metadata": {},
   "outputs": [
    {
     "name": "stdout",
     "output_type": "stream",
     "text": [
      "[105, 110, 115, 120, 125, 130, 135, 140, 145]\n"
     ]
    }
   ],
   "source": [
    "cont = [number for number in range(50, 150, 5) if number > 100]\n",
    "print(cont)"
   ]
  },
  {
   "cell_type": "code",
   "execution_count": 51,
   "id": "8107d995",
   "metadata": {},
   "outputs": [
    {
     "name": "stdout",
     "output_type": "stream",
     "text": [
      "['1072', '13', '1000']\n"
     ]
    }
   ],
   "source": [
    "print([number for number in 'In 1072 there were  13 instances of a protest 1000 over'.split()  if not number.isalpha()])"
   ]
  },
  {
   "cell_type": "code",
   "execution_count": 53,
   "id": "18438932",
   "metadata": {},
   "outputs": [
    {
     "name": "stdout",
     "output_type": "stream",
     "text": [
      "['even', 'odd', 'even', 'odd', 'even']\n"
     ]
    }
   ],
   "source": [
    "result = ['even' if n%2 == 0 else 'odd' for n in range(5)]\n",
    "print(result)"
   ]
  },
  {
   "cell_type": "code",
   "execution_count": 54,
   "id": "d0432418",
   "metadata": {},
   "outputs": [
    {
     "name": "stdout",
     "output_type": "stream",
     "text": [
      "['even', 'odd', 'even', 'odd', 'even', 'odd', 'even', 'odd', 'even', 'odd']\n"
     ]
    }
   ],
   "source": [
    "print(['even' if n %2 == 0 else 'odd' for n in range(10)])"
   ]
  },
  {
   "cell_type": "code",
   "execution_count": 55,
   "id": "8fa87a2b",
   "metadata": {},
   "outputs": [
    {
     "name": "stdout",
     "output_type": "stream",
     "text": [
      "[(5, 'SEVEN'), (5, 'THREE')]\n"
     ]
    }
   ],
   "source": [
    "string = ['one', 'seven', 'three', 'two', 'ten']\n",
    "print([(len(str), str.upper()) for str in string if len(str)>3])"
   ]
  },
  {
   "cell_type": "code",
   "execution_count": 57,
   "id": "cdf14f9c",
   "metadata": {},
   "outputs": [
    {
     "name": "stdout",
     "output_type": "stream",
     "text": [
      "[(6, 'Things'), (9, 'Formating'), (4, 'Only'), (7, 'Forgive'), (9, 'Anythings'), (5, 'Three'), (10, 'Bangladesh')]\n"
     ]
    }
   ],
   "source": [
    "string = ['things', 'formating', 'only', 'forgive', 'anythings', 'three', 'bangladesh']\n",
    "print([(len(str), str.title()) for str in string if len(str)>= 3])"
   ]
  },
  {
   "cell_type": "code",
   "execution_count": 65,
   "id": "5560f02e",
   "metadata": {},
   "outputs": [
    {
     "name": "stdout",
     "output_type": "stream",
     "text": [
      "[(6, 'THINGS'), (9, 'FORMATING'), (4, 'ONLY'), (7, 'FORGIVE'), (9, 'ANYTHINGS'), (5, 'THREE'), (10, 'BANGLADESH')]\n"
     ]
    }
   ],
   "source": [
    "print([(len(str), str.upper()) for str in ('things', 'formating', 'only', 'forgive', 'anythings', 'three', 'bangladesh')\n",
    "  if len(str)>= 3])"
   ]
  },
  {
   "cell_type": "code",
   "execution_count": 66,
   "id": "f8fe9cfe",
   "metadata": {},
   "outputs": [
    {
     "name": "stdout",
     "output_type": "stream",
     "text": [
      "['Verne, Jules', 'Dumas, Alexandre', 'Druon, Maurice']\n"
     ]
    }
   ],
   "source": [
    "names = [\"Jules Verne\", \"Alexandre Dumas\", \"Maurice Druon\"]\n",
    "print([name.split()[1] + \", \" + name.split()[0] for name in names])"
   ]
  },
  {
   "cell_type": "code",
   "execution_count": 67,
   "id": "71e78f2e",
   "metadata": {},
   "outputs": [
    {
     "name": "stdout",
     "output_type": "stream",
     "text": [
      "['verne, Jules', 'Dumas, Alexandre', 'Druon, Maurice']\n"
     ]
    }
   ],
   "source": [
    "names = [\"Jules verne\", \"Alexandre Dumas\", \"Maurice Druon\"]\n",
    "print([name.split()[1] + \", \" + name.split()[0] for name in names])"
   ]
  },
  {
   "cell_type": "code",
   "execution_count": 68,
   "id": "549204e6",
   "metadata": {},
   "outputs": [
    {
     "name": "stdout",
     "output_type": "stream",
     "text": [
      "[24, 70, 120]\n"
     ]
    }
   ],
   "source": [
    "lst = [12,24,35,70,88,120,155]\n",
    "print([value for index,value in enumerate(lst) if index!=0 and index!=2 and index!=4 and index!=6])\n"
   ]
  },
  {
   "cell_type": "code",
   "execution_count": 69,
   "id": "5620ecdb",
   "metadata": {},
   "outputs": [
    {
     "name": "stdout",
     "output_type": "stream",
     "text": [
      "[3, 7, 11, 15, 17, 19]\n"
     ]
    }
   ],
   "source": [
    "list = [1, 3, 5, 7, 9, 11, 13, 15, 17, 19]\n",
    "print([value for index, value in enumerate(list) if index != 0 and index != 2 and index != 4 and index != 6])"
   ]
  },
  {
   "cell_type": "code",
   "execution_count": 70,
   "id": "669f3e2b",
   "metadata": {},
   "outputs": [
    {
     "name": "stdout",
     "output_type": "stream",
     "text": [
      "['January', 'March', 'May', 'July', 'August', 'September']\n"
     ]
    }
   ],
   "source": [
    "list = ['January', 'February', 'March', 'April', 'May', 'Jun', 'July', 'August', 'September']\n",
    "print([key for index, key in enumerate(list) if index != 1 and index != 3 and index != 5])"
   ]
  },
  {
   "cell_type": "code",
   "execution_count": 71,
   "id": "039422dc",
   "metadata": {},
   "outputs": [
    {
     "ename": "NameError",
     "evalue": "name 'prairie_pirates' is not defined",
     "output_type": "error",
     "traceback": [
      "\u001b[1;31m---------------------------------------------------------------------------\u001b[0m",
      "\u001b[1;31mNameError\u001b[0m                                 Traceback (most recent call last)",
      "\u001b[1;32mC:\\Users\\MDANIS~1\\AppData\\Local\\Temp/ipykernel_10404/1177483011.py\u001b[0m in \u001b[0;36m<module>\u001b[1;34m\u001b[0m\n\u001b[1;32m----> 1\u001b[1;33m \u001b[0mparrot_haters\u001b[0m \u001b[1;33m=\u001b[0m \u001b[1;33m[\u001b[0m\u001b[0mpirate\u001b[0m\u001b[1;33m[\u001b[0m\u001b[1;36m0\u001b[0m\u001b[1;33m]\u001b[0m \u001b[1;32mfor\u001b[0m \u001b[0mpirate\u001b[0m \u001b[1;32min\u001b[0m \u001b[0mprairie_pirates\u001b[0m \u001b[1;32mif\u001b[0m \u001b[0mpirate\u001b[0m\u001b[1;33m[\u001b[0m\u001b[1;36m2\u001b[0m\u001b[1;33m]\u001b[0m\u001b[1;33m==\u001b[0m\u001b[1;32mFalse\u001b[0m\u001b[1;33m]\u001b[0m\u001b[1;33m\u001b[0m\u001b[1;33m\u001b[0m\u001b[0m\n\u001b[0m\u001b[0;32m      2\u001b[0m \u001b[0mprint\u001b[0m\u001b[1;33m(\u001b[0m\u001b[0mparrot_haters\u001b[0m\u001b[1;33m)\u001b[0m\u001b[1;33m\u001b[0m\u001b[1;33m\u001b[0m\u001b[0m\n",
      "\u001b[1;31mNameError\u001b[0m: name 'prairie_pirates' is not defined"
     ]
    }
   ],
   "source": [
    "parrot_haters = [pirate[0] for pirate in prairie_pirates if pirate[2]==False]\n",
    "print(parrot_haters)"
   ]
  },
  {
   "cell_type": "code",
   "execution_count": 72,
   "id": "1d9c4feb",
   "metadata": {},
   "outputs": [
    {
     "name": "stdout",
     "output_type": "stream",
     "text": [
      "[('Everyone', 8), ('coping', 6)]\n"
     ]
    }
   ],
   "source": [
    "Existence = \"Everyone WAS coping\"\n",
    "newlist = [(e, len(e)) for e in Existence.split() if len(e)>5]\n",
    "print(newlist)\n"
   ]
  },
  {
   "cell_type": "code",
   "execution_count": 76,
   "id": "e0784d77",
   "metadata": {},
   "outputs": [
    {
     "name": "stdout",
     "output_type": "stream",
     "text": [
      "[('EVERYONE', 8), ('COPING', 6)]\n"
     ]
    }
   ],
   "source": [
    "existance = 'Everyone was coping'\n",
    "print([(e.upper(), len(e)) for e in existance.split() if len(e)>=5])\n"
   ]
  },
  {
   "cell_type": "code",
   "execution_count": 78,
   "id": "f238eca7",
   "metadata": {},
   "outputs": [
    {
     "name": "stdout",
     "output_type": "stream",
     "text": [
      "[10, 11, 20, 22, 30, 33, 40, 44, 50, 55, 60, 66, 70, 77, 80, 88, 90, 99]\n"
     ]
    }
   ],
   "source": [
    "print([i for i in range(1,100) if i % 10 == 0 or i % 11 == 0])"
   ]
  },
  {
   "cell_type": "code",
   "execution_count": 79,
   "id": "dcc58888",
   "metadata": {},
   "outputs": [
    {
     "name": "stdout",
     "output_type": "stream",
     "text": [
      "Sum: 2550\n"
     ]
    }
   ],
   "source": [
    "even_nums = [i for i in range(0, 101) if i % 2 == 0]\n",
    "sum = 0\n",
    "for even in even_nums:\n",
    "    sum += even\n",
    "print(\"Sum:\", sum)\n"
   ]
  },
  {
   "cell_type": "code",
   "execution_count": 81,
   "id": "2729b297",
   "metadata": {},
   "outputs": [
    {
     "name": "stdout",
     "output_type": "stream",
     "text": [
      "New_list: [10, 20, 30, 40, 50]\n"
     ]
    }
   ],
   "source": [
    "print(\"New_list:\",[number*10 for number in (1, 2, 3, 4, 5)])"
   ]
  },
  {
   "cell_type": "code",
   "execution_count": null,
   "id": "bf04bfb2",
   "metadata": {},
   "outputs": [],
   "source": [
    "def square_odds(num):\n",
    "  return [number*number for number in num if number%2!=0]\n",
    "print(square_odds([]))\n",
    "print(square_odds([1,2,3,4,5]))\n",
    "print(square_odds([7,3,5]))\n",
    "print(square_odds([2,4,8]))\n"
   ]
  },
  {
   "cell_type": "code",
   "execution_count": 90,
   "id": "94ef764e",
   "metadata": {},
   "outputs": [
    {
     "data": {
      "text/plain": [
       "[4, 16, 36, 64]"
      ]
     },
     "execution_count": 90,
     "metadata": {},
     "output_type": "execute_result"
    }
   ],
   "source": [
    "def square_odds(num):\n",
    "    return [x**2 for x in num if x % 2 == 0]\n",
    "\n",
    "square_odds([1, 2, 3, 4, 5, 6, 8])"
   ]
  },
  {
   "cell_type": "code",
   "execution_count": 89,
   "id": "e6a72950",
   "metadata": {},
   "outputs": [
    {
     "data": {
      "text/plain": [
       "['This', 'long', 'list', 'words', 'ten']"
      ]
     },
     "execution_count": 89,
     "metadata": {},
     "output_type": "execute_result"
    }
   ],
   "source": [
    "sentence = \"This is a long list of words our ten\"\n",
    "[word for word in sentence.split() if word[0]!='a' and word[0]!='e' and word[0]!='i' and word[0]!='o' and word[0]!='u']"
   ]
  },
  {
   "cell_type": "code",
   "execution_count": 91,
   "id": "696de2e0",
   "metadata": {},
   "outputs": [
    {
     "name": "stdout",
     "output_type": "stream",
     "text": [
      "New_list: [5, 11, 15, 17]\n"
     ]
    }
   ],
   "source": [
    "list1 = [2, 5, 7, 8]\n",
    "list2 = [1, 2]\n",
    "print(\"New_list:\", [num*2+1 for num in list1])"
   ]
  },
  {
   "cell_type": "code",
   "execution_count": 92,
   "id": "5c9d0c60",
   "metadata": {},
   "outputs": [
    {
     "name": "stdout",
     "output_type": "stream",
     "text": [
      "Another list: [3, 9]\n"
     ]
    }
   ],
   "source": [
    "print(\"Another list:\", [item + 1 for item in list1 if item == 2 or item == 8])"
   ]
  },
  {
   "cell_type": "code",
   "execution_count": 93,
   "id": "792442c7",
   "metadata": {},
   "outputs": [
    {
     "name": "stdout",
     "output_type": "stream",
     "text": [
      "Display: [[2, 3], [5, 6], [7, 8], [8, 9]]\n"
     ]
    }
   ],
   "source": [
    "print(\"Display:\", [[item, item + 1] for item in list1])"
   ]
  },
  {
   "cell_type": "code",
   "execution_count": 94,
   "id": "fee7a37e",
   "metadata": {},
   "outputs": [
    {
     "name": "stdout",
     "output_type": "stream",
     "text": [
      "[[3, 4], [6, 7], [8, 9], [9, 10]]\n"
     ]
    }
   ],
   "source": [
    "print([[item+i for i in list2] for item in list1 ])"
   ]
  },
  {
   "cell_type": "code",
   "execution_count": null,
   "id": "330c9560",
   "metadata": {},
   "outputs": [],
   "source": []
  }
 ],
 "metadata": {
  "kernelspec": {
   "display_name": "Python 3 (ipykernel)",
   "language": "python",
   "name": "python3"
  },
  "language_info": {
   "codemirror_mode": {
    "name": "ipython",
    "version": 3
   },
   "file_extension": ".py",
   "mimetype": "text/x-python",
   "name": "python",
   "nbconvert_exporter": "python",
   "pygments_lexer": "ipython3",
   "version": "3.9.7"
  }
 },
 "nbformat": 4,
 "nbformat_minor": 5
}
