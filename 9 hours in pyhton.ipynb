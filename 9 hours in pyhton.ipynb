{
 "cells": [
  {
   "cell_type": "code",
   "execution_count": 1,
   "id": "2771825a",
   "metadata": {},
   "outputs": [
    {
     "name": "stdout",
     "output_type": "stream",
     "text": [
      "Hey I Love You\n"
     ]
    }
   ],
   "source": [
    "a = \"I\"\n",
    "b = \"Love\"\n",
    "c = \"You\"\n",
    "print(\"Hey\", a, b, c)\n"
   ]
  },
  {
   "cell_type": "code",
   "execution_count": 1,
   "id": "e65a127e",
   "metadata": {},
   "outputs": [
    {
     "name": "stdout",
     "output_type": "stream",
     "text": [
      "Love love I\n",
      "YOu love Love\n"
     ]
    }
   ],
   "source": [
    "a = \"I\"\n",
    "b = \"Love\"\n",
    "c = \"YOu\"\n",
    "print(\"{1} love {0}\".format(a, b))\n",
    "print(\"{1} love {0}\".format(b, c))"
   ]
  },
  {
   "cell_type": "code",
   "execution_count": 3,
   "id": "ba702b8f",
   "metadata": {},
   "outputs": [
    {
     "name": "stdout",
     "output_type": "stream",
     "text": [
      "8\n",
      "5\n"
     ]
    }
   ],
   "source": [
    "_ = 8\n",
    "_d = 5\n",
    "print(_)\n",
    "print(_d)"
   ]
  },
  {
   "cell_type": "code",
   "execution_count": null,
   "id": "03f7b8e1",
   "metadata": {},
   "outputs": [],
   "source": [
    "print(\"hello world\")"
   ]
  },
  {
   "cell_type": "code",
   "execution_count": null,
   "id": "212155b8",
   "metadata": {},
   "outputs": [],
   "source": []
  }
 ],
 "metadata": {
  "kernelspec": {
   "display_name": "Python 3 (ipykernel)",
   "language": "python",
   "name": "python3"
  },
  "language_info": {
   "codemirror_mode": {
    "name": "ipython",
    "version": 3
   },
   "file_extension": ".py",
   "mimetype": "text/x-python",
   "name": "python",
   "nbconvert_exporter": "python",
   "pygments_lexer": "ipython3",
   "version": "3.9.7"
  }
 },
 "nbformat": 4,
 "nbformat_minor": 5
}
