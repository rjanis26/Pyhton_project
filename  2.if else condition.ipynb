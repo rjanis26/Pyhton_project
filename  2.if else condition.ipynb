{
 "cells": [
  {
   "cell_type": "code",
   "execution_count": 1,
   "id": "001e0eee",
   "metadata": {},
   "outputs": [
    {
     "name": "stdout",
     "output_type": "stream",
     "text": [
      "hello world.\n"
     ]
    }
   ],
   "source": [
    "print(\"hello world.\")"
   ]
  },
  {
   "cell_type": "code",
   "execution_count": 5,
   "id": "f3f36941",
   "metadata": {},
   "outputs": [
    {
     "name": "stdout",
     "output_type": "stream",
     "text": [
      "Input a string: Im form Bangladesh in Dhaka 1200\n",
      "Letters:  23\n",
      "Digits:  4\n"
     ]
    }
   ],
   "source": [
    "s = input(\"Input a string: \")\n",
    "digits = 0\n",
    "letters = 0\n",
    "\n",
    "for c in s:\n",
    "    if c.isdigit():\n",
    "        digits += 1\n",
    "    elif c.isalpha():\n",
    "        letters += 1\n",
    "    else:\n",
    "        pass\n",
    "print(\"Letters: \", letters)\n",
    "print(\"Digits: \", digits)"
   ]
  },
  {
   "cell_type": "code",
   "execution_count": 7,
   "id": "c97a4a7d",
   "metadata": {},
   "outputs": [
    {
     "name": "stdout",
     "output_type": "stream",
     "text": [
      "Inpt the your string: Bangladesh235\n",
      "Letters:  10\n",
      "Digits:  3\n"
     ]
    }
   ],
   "source": [
    "str = input(\"Inpt the your string: \")\n",
    "letters = 0\n",
    "digits = 0\n",
    "\n",
    "for x in str:\n",
    "    if x.isalpha():\n",
    "        letters += 1\n",
    "    \n",
    "    elif x.isdigit():\n",
    "        digits += 1\n",
    "    else:\n",
    "        pass\n",
    "    \n",
    "print(\"Letters: \", letters)\n",
    "print(\"Digits: \", digits)"
   ]
  },
  {
   "cell_type": "code",
   "execution_count": null,
   "id": "099ba738",
   "metadata": {},
   "outputs": [],
   "source": []
  }
 ],
 "metadata": {
  "kernelspec": {
   "display_name": "Python 3 (ipykernel)",
   "language": "python",
   "name": "python3"
  },
  "language_info": {
   "codemirror_mode": {
    "name": "ipython",
    "version": 3
   },
   "file_extension": ".py",
   "mimetype": "text/x-python",
   "name": "python",
   "nbconvert_exporter": "python",
   "pygments_lexer": "ipython3",
   "version": "3.9.7"
  }
 },
 "nbformat": 4,
 "nbformat_minor": 5
}
