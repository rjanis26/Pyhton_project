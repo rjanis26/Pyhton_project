{
 "cells": [
  {
   "cell_type": "code",
   "execution_count": 2,
   "id": "05ba3178",
   "metadata": {},
   "outputs": [
    {
     "name": "stdout",
     "output_type": "stream",
     "text": [
      "25\n"
     ]
    }
   ],
   "source": [
    "r = lambda a: a + 15\n",
    "print(r(10))"
   ]
  },
  {
   "cell_type": "code",
   "execution_count": 12,
   "id": "6862a3a4",
   "metadata": {},
   "outputs": [
    {
     "name": "stdout",
     "output_type": "stream",
     "text": [
      "Orginal list of  tuples:\n",
      " [('English', 88), ('Science', 90), ('Maths', 97), ('Social Science', 82)]\n",
      "Sorting the list of the Tuples:\n",
      " [('Social Science', 82), ('English', 88), ('Science', 90), ('Maths', 97)]\n"
     ]
    }
   ],
   "source": [
    "subjects_marks = [(\"English\", 88), (\"Science\", 90), (\"Maths\", 97), (\"Social Science\", 82)]\n",
    "print(\"Orginal list of  tuples:\\n\", subjects_marks)\n",
    "subjects_marks.sort(key = lambda x: x[-1])\n",
    "print(\"Sorting the list of the Tuples:\\n\", subjects_marks)"
   ]
  },
  {
   "cell_type": "markdown",
   "id": "fa06bc02",
   "metadata": {},
   "source": [
    "# Filter Function"
   ]
  },
  {
   "cell_type": "code",
   "execution_count": 16,
   "id": "cb05a60a",
   "metadata": {},
   "outputs": [
    {
     "name": "stdout",
     "output_type": "stream",
     "text": [
      "Orginal list of the integers:\n",
      "[1, 2, 3, 4, 5, 6, 7, 8, 9, 10]\n",
      "Even values: [2, 4, 6, 8, 10]\n",
      "Odd values: [1, 3, 5, 7, 9]\n"
     ]
    }
   ],
   "source": [
    "nums = [1, 2, 3, 4, 5, 6, 7, 8, 9, 10]\n",
    "print(\"Orginal list of the integers:\")\n",
    "print(nums)\n",
    "even_val = list(filter(lambda x:x%2 == 0, nums))\n",
    "print(\"Even values:\", even_val)\n",
    "odd_val = list(filter(lambda x:x%2 == 1, nums))\n",
    "print(\"Odd values:\", odd_val)"
   ]
  },
  {
   "cell_type": "markdown",
   "id": "f8f22c0f",
   "metadata": {},
   "source": [
    "# Map Function"
   ]
  },
  {
   "cell_type": "code",
   "execution_count": 19,
   "id": "88396d95",
   "metadata": {},
   "outputs": [
    {
     "name": "stdout",
     "output_type": "stream",
     "text": [
      "Orginal list of integers: \n",
      "[1, 2, 3, 4, 5, 6, 7, 8, 9, 10]\n",
      "Square list using lanbda function: \n",
      "[1, 4, 9, 16, 25, 36, 49, 64, 81, 100]\n",
      "Cube list using lambda function: \n",
      "[1, 8, 27, 64, 125, 216, 343, 512, 729, 1000]\n"
     ]
    }
   ],
   "source": [
    "numbers = [1, 2, 3, 4, 5, 6, 7, 8, 9, 10]\n",
    "print(\"Orginal list of integers: \")\n",
    "print(numbers)\n",
    "result = list(map(lambda x : x ** 2, numbers))\n",
    "print(\"Square list using lanbda function: \")\n",
    "print(result)\n",
    "ress = list(map(lambda x : x ** 3, numbers))\n",
    "print(\"Cube list using lambda function: \")\n",
    "print(ress)"
   ]
  },
  {
   "cell_type": "code",
   "execution_count": 24,
   "id": "6c7a3596",
   "metadata": {},
   "outputs": [
    {
     "name": "stdout",
     "output_type": "stream",
     "text": [
      "True\n",
      "False\n",
      "True\n"
     ]
    }
   ],
   "source": [
    "starts_with = lambda x : True if x.startswith('P') else False\n",
    "print(starts_with('Python'))\n",
    "starts_with = lambda x : True if x.startswith(\"s\") else False\n",
    "print(starts_with(\"java\"))\n",
    "print(starts_with('salman khan'))\n"
   ]
  },
  {
   "cell_type": "code",
   "execution_count": 25,
   "id": "5c3afe07",
   "metadata": {},
   "outputs": [
    {
     "name": "stdout",
     "output_type": "stream",
     "text": [
      "2022-02-17 11:15:50.952802\n"
     ]
    }
   ],
   "source": [
    "import datetime\n",
    "now = datetime.datetime.now()\n",
    "print(now)"
   ]
  },
  {
   "cell_type": "code",
   "execution_count": 26,
   "id": "d9c34386",
   "metadata": {},
   "outputs": [
    {
     "name": "stdout",
     "output_type": "stream",
     "text": [
      "2022\n",
      "2\n",
      "17\n",
      "11:15:50.952802\n"
     ]
    }
   ],
   "source": [
    "year = lambda x:x.year\n",
    "month = lambda x : x.month\n",
    "day = lambda x : x.day\n",
    "time = lambda x : x.time()\n",
    "print(year(now))\n",
    "print(month(now))\n",
    "print(day(now))\n",
    "print(time(now))"
   ]
  },
  {
   "cell_type": "code",
   "execution_count": 29,
   "id": "82f44489",
   "metadata": {},
   "outputs": [
    {
     "name": "stdout",
     "output_type": "stream",
     "text": [
      "Orginal arrays:\n",
      "[1, 2, 3, 5, 7, 8, 9, 10]\n",
      "[1, 2, 4, 8, 9]\n",
      "[1, 2, 8, 9]\n"
     ]
    }
   ],
   "source": [
    "#insertion of two given arrays\n",
    "arr_nums1 = [1, 2, 3, 5, 7, 8, 9, 10]\n",
    "arr_nums2 = [1, 2, 4, 8, 9]\n",
    "print(\"Orginal arrays:\")\n",
    "print(arr_nums1)\n",
    "print(arr_nums2)\n",
    "result = list(filter(lambda x : x in arr_nums1, arr_nums2))\n",
    "print(result)"
   ]
  },
  {
   "cell_type": "code",
   "execution_count": 30,
   "id": "5443948b",
   "metadata": {},
   "outputs": [
    {
     "name": "stdout",
     "output_type": "stream",
     "text": [
      "Orginal array:\n",
      "[-1, 2, -3, 5, 0, 7, 8, 9, -10]\n",
      "[-1, -3, -10, 2, 5, 0, 7, 8, 9]\n"
     ]
    }
   ],
   "source": [
    "#rearrage positive and negative numbers from the given array\n",
    "arr_nums = [-1, 2, -3, 5,0, 7, 8, 9, -10]\n",
    "print(\"Orginal array:\")\n",
    "print(arr_nums)\n",
    "\n",
    "result = [x for x in arr_nums if x < 0] + [x for x in arr_nums if x >= 0]\n",
    "print(result)\n"
   ]
  },
  {
   "cell_type": "code",
   "execution_count": 33,
   "id": "1e812dc8",
   "metadata": {},
   "outputs": [
    {
     "name": "stdout",
     "output_type": "stream",
     "text": [
      "Monday\n",
      "Friday\n",
      "Sunday\n"
     ]
    }
   ],
   "source": [
    "weekdays = ['Monday', 'Tuesday', 'Wednesday', 'Thursday', 'Friday', 'Saturday', 'Sunday']\n",
    "days = filter(lambda day : day if len(day) == 6 else '', weekdays)\n",
    "for d in days:\n",
    "    print(d)"
   ]
  },
  {
   "cell_type": "code",
   "execution_count": 37,
   "id": "10f983d9",
   "metadata": {},
   "outputs": [
    {
     "name": "stdout",
     "output_type": "stream",
     "text": [
      "Orginal list:\n",
      " [1, 2, 3] [4, 5, 6]\n",
      "[5, 7, 9]\n"
     ]
    }
   ],
   "source": [
    "nums1 = [1, 2, 3]\n",
    "nums2 = [4, 5, 6]\n",
    "print(\"Orginal list:\\n\", nums1, nums2)\n",
    "result = map(lambda x, y : x + y, nums1, nums2)\n",
    "print(list(result))"
   ]
  },
  {
   "cell_type": "code",
   "execution_count": 12,
   "id": "975e1159",
   "metadata": {},
   "outputs": [
    {
     "ename": "SyntaxError",
     "evalue": "EOL while scanning string literal (Temp/ipykernel_8352/4008316857.py, line 4)",
     "output_type": "error",
     "traceback": [
      "\u001b[1;36m  File \u001b[1;32m\"C:\\Users\\MDANIS~1\\AppData\\Local\\Temp/ipykernel_8352/4008316857.py\"\u001b[1;36m, line \u001b[1;32m4\u001b[0m\n\u001b[1;33m    print(\"list-1: {}\\nlist-2: {}.format(num1, num2))\u001b[0m\n\u001b[1;37m                                                     ^\u001b[0m\n\u001b[1;31mSyntaxError\u001b[0m\u001b[1;31m:\u001b[0m EOL while scanning string literal\n"
     ]
    }
   ],
   "source": [
    "num1 = [1, 2, 4]\n",
    "num2 = [4, 5, 6]\n",
    "\n",
    "print(\"list-1: {}\\nlist-2: {}.format(num1, num2))\n",
    "result = list(map(lambda x, y: x + y, num1, num2))\n",
    "print(result)"
   ]
  },
  {
   "cell_type": "code",
   "execution_count": 14,
   "id": "598f115a",
   "metadata": {},
   "outputs": [
    {
     "name": "stdout",
     "output_type": "stream",
     "text": [
      "Orginal list: [19, 65, 57, 39, 152, 639, 121, 44, 90, 190]\n",
      "[19, 65, 57, 39, 152, 190]\n"
     ]
    }
   ],
   "source": [
    "nums = [19, 65, 57, 39, 152, 639, 121, 44, 90, 190]\n",
    "print(\"Orginal list:\", nums)\n",
    "\n",
    "result = list(filter(lambda x : x % 19 == 0 or  x % 13 == 0 , nums))\n",
    "print(result)"
   ]
  },
  {
   "cell_type": "code",
   "execution_count": 5,
   "id": "d8652de5",
   "metadata": {},
   "outputs": [
    {
     "name": "stdout",
     "output_type": "stream",
     "text": [
      "Orginal list: [19, 23, 41, 56, 87, 131, 44, 88]\n",
      "[19]\n"
     ]
    }
   ],
   "source": [
    "nums = [19, 23, 41, 56, 87, 131, 44, 88]\n",
    "print(\"Orginal list:\", nums)\n",
    "result = list(filter(lambda x: x % 19 == 0 or x % 13 == 0, nums))\n",
    "print(result)"
   ]
  },
  {
   "cell_type": "code",
   "execution_count": 41,
   "id": "2a323852",
   "metadata": {},
   "outputs": [
    {
     "name": "stdout",
     "output_type": "stream",
     "text": [
      "[10, 8, 7, 11, 6]\n"
     ]
    }
   ],
   "source": [
    "arr = [10,2,8,7,5,4,3,11,0,6, 1]\n",
    "result = list(filter(lambda x : x >= 6, arr))\n",
    "print(result)"
   ]
  },
  {
   "cell_type": "code",
   "execution_count": 8,
   "id": "cecf0258",
   "metadata": {},
   "outputs": [
    {
     "name": "stdout",
     "output_type": "stream",
     "text": [
      "New_list: [10, 12, 6, 11, -1, 45]\n"
     ]
    }
   ],
   "source": [
    "arr = [10, 12, 3, 4, 5, 6, 11, -1, 45]\n",
    "result = list(filter(lambda x: x >= 6 or x <0 ,arr))\n",
    "print(\"New_list:\", result)"
   ]
  },
  {
   "cell_type": "code",
   "execution_count": null,
   "id": "588a5964",
   "metadata": {},
   "outputs": [],
   "source": []
  }
 ],
 "metadata": {
  "kernelspec": {
   "display_name": "Python 3 (ipykernel)",
   "language": "python",
   "name": "python3"
  },
  "language_info": {
   "codemirror_mode": {
    "name": "ipython",
    "version": 3
   },
   "file_extension": ".py",
   "mimetype": "text/x-python",
   "name": "python",
   "nbconvert_exporter": "python",
   "pygments_lexer": "ipython3",
   "version": "3.9.7"
  }
 },
 "nbformat": 4,
 "nbformat_minor": 5
}
